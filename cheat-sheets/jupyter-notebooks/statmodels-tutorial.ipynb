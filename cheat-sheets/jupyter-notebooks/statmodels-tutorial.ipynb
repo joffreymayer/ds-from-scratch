{
 "cells": [
  {
   "cell_type": "markdown",
   "metadata": {},
   "source": [
    "# `statmodels` Package\n",
    "---\n",
    "\n",
    "In this Notebook, I will go through an example of the paper _Statsmodels: Econometric and Statistical Modeling with Python_, in order to understand approximately how the library works."
   ]
  },
  {
   "cell_type": "code",
   "execution_count": 3,
   "metadata": {},
   "outputs": [],
   "source": [
    "import statsmodels.api as sm # the suggested convention for importing 'statsmodels'\n",
    "import numpy as np # we also need numpy when using this library"
   ]
  },
  {
   "cell_type": "markdown",
   "metadata": {},
   "source": [
    "### <u>Load the data</u>:"
   ]
  },
  {
   "cell_type": "code",
   "execution_count": 4,
   "metadata": {},
   "outputs": [],
   "source": [
    "longley = sm.datasets.longley # this is Longley (1967) dataset on the US macro economy\n",
    "\n",
    "# Link on Google-Scholar: https://scholar.google.com/scholar?hl=de&as_sdt=0%2C5&q=An+Appraisal+of+Least+Squares+Programs+for+the+Electronic+Computer+from+the+Point+of+View+of+the+User&btnG="
   ]
  },
  {
   "cell_type": "code",
   "execution_count": 6,
   "metadata": {},
   "outputs": [],
   "source": [
    "data = longley.load() # just load the data (it contains other stuff, such as \"copyright\" etc...)"
   ]
  },
  {
   "cell_type": "markdown",
   "metadata": {},
   "source": [
    "### <u>Demo of an (OLS-) Regression</u>:"
   ]
  },
  {
   "cell_type": "code",
   "execution_count": 7,
   "metadata": {},
   "outputs": [],
   "source": [
    "data.exog = sm.add_constant(data.exog) # add exogenous variables (here, we assume that the data is already cleaned!)"
   ]
  },
  {
   "cell_type": "code",
   "execution_count": 11,
   "metadata": {},
   "outputs": [],
   "source": [
    "longley_model = sm.OLS(data.endog, data.exog) # instantiate the model"
   ]
  },
  {
   "cell_type": "code",
   "execution_count": 12,
   "metadata": {},
   "outputs": [],
   "source": [
    "longley_res = longley_model.fit() # fit the model --> the output of the 'fit'-method returns a \"RegressionResult\"-Class\n",
    "\n",
    "# \"longley_res\" has several attributes and methods of interest, like - for example - the \"params()\"-method, which will print out\n",
    "# the beta-coefficients of the linear regression"
   ]
  },
  {
   "cell_type": "code",
   "execution_count": 15,
   "metadata": {},
   "outputs": [
    {
     "data": {
      "text/plain": [
       "array([-3.48225863e+06,  1.50618723e+01, -3.58191793e-02, -2.02022980e+00,\n",
       "       -1.03322687e+00, -5.11041057e-02,  1.82915146e+03])"
      ]
     },
     "execution_count": 15,
     "metadata": {},
     "output_type": "execute_result"
    }
   ],
   "source": [
    "longley_res.params"
   ]
  },
  {
   "cell_type": "markdown",
   "metadata": {},
   "source": [
    "## Nice to know\n",
    "---\n",
    "\n",
    "### <u>List of all methods, that you can use for `RegressionResult`-Classes</u>:\n",
    "\n",
    "All of the attributes and methods are **well-documented in the docstring and in our online documentation**."
   ]
  },
  {
   "cell_type": "code",
   "execution_count": null,
   "metadata": {},
   "outputs": [],
   "source": [
    "['HC0_se', 'HC1_se', 'HC2_se', 'HC3_se', 'aic', 'bic', 'bse', \n",
    " 'centered_tss', 'conf_int', 'cov_params', 'df_model', 'df_resid', \n",
    " 'ess', 'f_pvalue', 'f_test', 'fittedvalues', 'fvalue', 'initialize', \n",
    " 'llf', 'model', 'mse_model', 'mse_resid', 'mse_total', 'nobs', \n",
    " 'norm_resid', 'normalized_cov_params', 'params', 'pvalues',\n",
    " 'resid', 'rsquared', 'rsquared_adj', 'scale', 'ssr',\n",
    " 'summary', 't', 't_test', 'uncentered_tss', 'wresid']"
   ]
  },
  {
   "cell_type": "code",
   "execution_count": 13,
   "metadata": {},
   "outputs": [],
   "source": [
    "params = np.dot(np.linalg.pinv(data.exog), data.endog) # By default, the least squares models use the pseudoinverse to\n",
    "# compute the parameters that solve the objective function"
   ]
  },
  {
   "cell_type": "code",
   "execution_count": null,
   "metadata": {},
   "outputs": [],
   "source": []
  }
 ],
 "metadata": {
  "kernelspec": {
   "display_name": "Python 3",
   "language": "python",
   "name": "python3"
  },
  "language_info": {
   "codemirror_mode": {
    "name": "ipython",
    "version": 3
   },
   "file_extension": ".py",
   "mimetype": "text/x-python",
   "name": "python",
   "nbconvert_exporter": "python",
   "pygments_lexer": "ipython3",
   "version": "3.8.5"
  }
 },
 "nbformat": 4,
 "nbformat_minor": 4
}
