{
 "cells": [
  {
   "cell_type": "markdown",
   "metadata": {},
   "source": [
    "# <a id=\"top\" style=\"color:black; text-decoration: none;\">Python Mustercodes</a>\n",
    "---\n",
    "\n",
    "In diesem Dokument habe ich eine **Liste von diversen Python-Codes**, welche mir in meiner Arbeit als Data Scientist behilflich sein könnten. I hope you find what you are looking for =)"
   ]
  },
  {
   "cell_type": "markdown",
   "metadata": {},
   "source": [
    "## Inhaltsverzeichnis\n",
    "\n",
    "```\n",
    "<a id=\"gebe-hier-passenden-id-namen\" style=\"color:black; text-decoration: none;\"></a>\n",
    "```\n",
    "\n",
    "- [List Comprehensions](#list-compr)\n",
    "- [String Manipulation](#str-manip)\n",
    "- [Package Installation](#package-install)\n",
    "    - [De-Install Packages with `pip`](#deinstall-pip)\n",
    "- [Help](#help)\n",
    "- [Path handling](#path)\n",
    "- [Save Data](#saving)\n",
    "    - [... as `.CSV`](#save-csv)\n",
    "- [Read Data](#read-data)\n",
    "    - [Load `Excel`](#load-excel)\n",
    "    - [Load `.CSV`](#load-csv)\n",
    "    - [... via a Website's URL](#load-url)\n",
    "    - [Load Pickle](#load-pickle)\n",
    "- [Vanilla Data Exploration](#vanilla-exploration)\n",
    "    - [Number of Rows](#number-of-rows)\n",
    "    - [View whole Dataset](#view-all-ddset)\n",
    "    - [View 5 first observations in the Dataset](#view-first-five)\n",
    "    - [View 5 last observations in the Dataset](#view-last-five)\n",
    "    - [Number of Missings per Column within a dataset](#missings-per-column)\n",
    "    - [Find the `Data Type` of a Variable](#find-data-type)\n",
    "    - [Drop 1 OR multiple Columns](#drop-columns)\n",
    "    - [Re-Name 1 OR multiple Columns](#rename-columns)\n",
    "    - [`.reset_index()` and `.set_index()`](#reset-and-set-idx)\n",
    "    - [Summary of a Dataset](#summary-ddset)\n",
    "    - [Show only `unique()` Columns](#unique-values)\n",
    "    - [Median &amp; Mean for a particular Column](#median-and-mean)\n",
    "    - [Apply a Fustom-Function `f(x)`, but only on certain rows within a Dataframe via `numpy`](#apply-a-function-based-on-cond)\n",
    "    - [Transform a Series to a Dataframe](#trans-series-to-frame)\n",
    "    - [Assign a `unique ID`](#unique-id)\n",
    "- [Selection &amp; Filtering of Rows &amp; Columns](#sel-and-filt)\n",
    "    - [Select 1 Column in a Dataframe](#select-1-col-ddset)\n",
    "        - [Example with \"dot-notation\", e.g. `df.a_Column`](#dot-not)\n",
    "    - [Select multiple Columns in a Dataframe](#select-multi-col-ddset)\n",
    "    - [Select AND Filter for Rows with _1 Condition_ within Dataframe](#filter-1-row-ddset)\n",
    "    - [Select AND Filter for Rows with _multiple Conditions_ within a Dataframe](#filter-multi-cond-ddset)\n",
    "    - [Select only Rows with Missing-Values](#select-only-missings)\n",
    "    - [Selection with \"Accessor Operators\" `loc` &amp; `iloc`](#sel-loc-iloc)\n",
    "        - [Example: Select 1st Row and 5th Column with `iloc`](#example-iloc-sel)\n",
    "        - [Example: Select 1st Row and 5th Column with `loc`](#example-loc-sel)\n",
    "        - [Example: Select with a _Threshold-Value_ via `loc`](#example-sel-with-threshold-loc)\n",
    "        - [Example: Select _entire Rows_ via `iloc`](#example-sel-entire-row-with-iloc)\n",
    "        - [Example: Select _entire Rows_ via `loc`](#example-sel-entire-row-with-loc)\n",
    "    - [Replace Values within Rows](#replace-values-within-rows)\n",
    "    - [Slicing is different when using `loc` or `iloc`](#different-slicing-loc-and-iloc)\n",
    "- [Sorting &amp; Filtering](#sort-and-filt)\n",
    "    - [Sorting (Pearson) Correlation _from most-important to least-important](#sort-pearson-corr-from-most-imp-to-least-imp)\n",
    "        - [Example: Select only highest Correlations, then Sort them and `print()` them](#example-of-sort-corr)\n",
    "- [Dealing with Missings](#dealing-with-missings)\n",
    "    - [Count total Number of Missings within a Dataframe](#count-total-missings-ddset)\n",
    "    - [Count Missings per Columns](#count-missings-per-columns)\n",
    "    - [Count _Non_-Missings, but _ONLY IF_ you don't have the value `0` in it](#count-non-missings-only-if-no-0)\n",
    "    - [Show only Rows with missings](#show-only-rows-with-missings)\n",
    "    - [Replace all Missings with 0's](#replace-missings-with-0)\n",
    "    - [Missing-Imputations](#missing-imputations)\n",
    "        - [Missing-Interpolation for Time-Series](#interpolation-for-time-series)\n",
    "- [Duplicate Data](#data-duplicates)\n",
    "    - [Count _all_ Duplicates in the Dataframe](#count-all-duplicates)\n",
    "    - [Drop Duplicates](#drop-duplicates)\n",
    "- [Outliers](#outliers)\n",
    "    - [Draw a Boxplot](#draw-boxplot)\n",
    "- [Merging &amp; Splitting](#merging-and-splitting)\n",
    "    - [Split bigger Dataset by Categories into Subsets](#split-big-ddset-by-categories)\n",
    "    - [Merging 2 Dataframes by their (row) index](#merging-by-idx)\n",
    "    - [Merging _multiple_ Datasets _simultaneously](#merge-multiple-ddset)\n",
    "- [Advanced Data Exploration](#advanced-exploration)\n",
    "    - [Create a Correlation-Matrix from a Dataframe](#create-correlation-matrix)\n",
    "- [Time Series Exploration](#time-series-exploration)\n",
    "    - [Plot Time-Series](#plot-time-series)\n",
    "    - [Autocorrelation &amp; Partial-Autocorrelation](#auto-and-partial-auto-corr)\n",
    "    - [Cross-Correlation](#cross-corr)\n",
    "    - [Feature Engineering](#feature-engineering-time-series)\n",
    "        - [Creating a Time-Index](#time-stamps-as-index)\n",
    "        - [Copy Index as a Column](#copy-index-as-columns)\n",
    "        - [Transform a \"Pseudo\"-Time-Column into a `Date-Time`-Column and set it as the index](#make-datetime-and-set-index)\n",
    "        - [Create a `range()` of Dates](#create-range-of-dates)\n",
    "        - [Rechnen (Addition &amp; Substraktion) mit `Date-Time`](#rechnen-mit-date-time-objects)\n",
    "            - [Genauer Zeitpunkt \"jetzt\" (Heute // `Today`) herausfinden](#today)\n",
    "            - [Zukunft relativ zu \"jetzt\"](#zukunft-relativ-zu-jetzt)\n",
    "            - [Subtraktion, um vergangenen Zeitpunkt zu berechnen](#subtraktion-von-zeitpunkt)\n",
    "            - [Herausfinden, welcher Wochentag (Mo / Di / Mi etc...) ein bestimmtes Datum war](#wochentag-herausfinden)\n",
    "        - [Create Dummy-Variables for Time-Variables](#dummy-variables-for-time-variables)\n",
    "            - [Create \"normal\" Dummies](#create-normal-dummies)\n",
    "            - [\"Flagg\"-Dummy by Merging](#flagg-dummy-by-merging)\n",
    "            - [Dummy for Hours](#dummy-for-hours)\n",
    "            - [Dummy for Quarters](#dummy-for-quarters)\n",
    "            - [Dummy for Days](#dummy-for-days)\n",
    "- [Scaling Variables](#scaling-variables)\n",
    "    - [Normalization](#normalization-scaling)\n",
    "    - [Series to Array](#series-to-array)\n",
    "- [Data Visualization](#data-viz)\n",
    "    - [Plot and Save Image](#plot-and-save-image)\n",
    "    - [_Multiple_ Plots with For-Loops](#multi-plots-for-loop)\n",
    "- [Umwandlungen von `Data Types` in einen anderen `Data Type`](#umwandlungen)\n",
    "    - [Convert Series to Array](#series-to-array)\n",
    "- [Useful \"tricks\" I stumbled upon](#useful-tricks)\n",
    "    - [`Reshape(-1,1)` to create a list _within_ a list](#reshape-1-1)\n",
    "- [Math-Tricks for \"Hacks\"](#math-tricks)\n",
    "    - [Round Downwards](#round-downwards)\n",
    "    - [Calculate the Median](#calc-median)\n",
    "- [Python Magic Commands](#magic-commands)\n",
    "    - [View all Columns](#view-all-columns)\n",
    "    - [Working with HTML within Juypter-Notebooks](#html-with-jupyter-notebooks)\n",
    "    - [Share Variables between Notebooks](#share-variables-between-notebooks)"
   ]
  },
  {
   "cell_type": "markdown",
   "metadata": {},
   "source": [
    "### <u><a id=\"list-compr\" style=\"color:black; text-decoration: none;\">List Comprehensions</a></u>:\n",
    "\n",
    "List Comprehensions are a concept that is on of `Python`'s most beloved and unique features. It's basically a loop where you apply a function to each of the elements during the loop. Its Output is a `list`. \n",
    "\n",
    "- <u>**Examples**</u>:"
   ]
  },
  {
   "cell_type": "markdown",
   "metadata": {},
   "source": [
    "### <u>List comprehension where we apply a `function`</u>: x<sup>2</sup>\n",
    "\n",
    "List comprehensions are really nice if you want to iterate over a column and apply a function on a particular column of your dataset."
   ]
  },
  {
   "cell_type": "code",
   "execution_count": 1,
   "metadata": {},
   "outputs": [
    {
     "data": {
      "text/plain": [
       "[0, 1, 4, 9, 16, 25, 36, 49, 64, 81]"
      ]
     },
     "execution_count": 1,
     "metadata": {},
     "output_type": "execute_result"
    }
   ],
   "source": [
    "squares = [n**2 for n in range(10)] # apply f(x) = x^2 on a list = [0, 1, 2, 3, 4, 5, 6, 7, 8, 9]\n",
    "squares"
   ]
  },
  {
   "cell_type": "code",
   "execution_count": 2,
   "metadata": {},
   "outputs": [
    {
     "name": "stdout",
     "output_type": "stream",
     "text": [
      "<class 'list'>\n"
     ]
    }
   ],
   "source": [
    "print(type(squares)) # Check output: should be a 'list'"
   ]
  },
  {
   "cell_type": "markdown",
   "metadata": {},
   "source": [
    "### <u>List comprehension with an `if` condition</u>:"
   ]
  },
  {
   "cell_type": "code",
   "execution_count": 3,
   "metadata": {},
   "outputs": [
    {
     "data": {
      "text/plain": [
       "['Venus', 'Earth', 'Mars']"
      ]
     },
     "execution_count": 3,
     "metadata": {},
     "output_type": "execute_result"
    }
   ],
   "source": [
    "planets = ['Mercury', 'Venus', 'Earth', 'Mars', 'Jupiter', 'Saturn', 'Uranus', 'Neptune'] # this is the list we will loop through\n",
    "\n",
    "short_planets = [planet for planet in planets if len(planet) < 6]\n",
    "short_planets"
   ]
  },
  {
   "cell_type": "markdown",
   "metadata": {},
   "source": [
    "### <u><a id=\"str-manip\" style=\"color:black; text-decoration: none;\">String Manipulation</a></u>:"
   ]
  },
  {
   "cell_type": "markdown",
   "metadata": {},
   "source": [
    "### <u>Transform a `list` that contains strings into a WHOLE string, only separated by commas</u>:"
   ]
  },
  {
   "cell_type": "code",
   "execution_count": 19,
   "metadata": {},
   "outputs": [
    {
     "name": "stdout",
     "output_type": "stream",
     "text": [
      "Mercury,Venus,Earth,Mars,Jupiter,Saturn,Uranus,Neptune\n"
     ]
    }
   ],
   "source": [
    "# step 0: create a list with many strings in it\n",
    "planets = ['Mercury', 'Venus', 'Earth', 'Mars', 'Jupiter', 'Saturn', 'Uranus', 'Neptune']\n",
    "\n",
    "# Step 1: Transform the whole list into a single \"string\"\n",
    "str(planets) # should output: \"['Mercury', 'Venus', 'Earth', 'Mars', 'Jupiter', 'Saturn', 'Uranus', 'Neptune']\"\n",
    "\n",
    "# Step 2: Now, we replace all characters that are unnecessary - such as ' [ and ] -such that we return a whole string,\n",
    "        # only separated by commas, with no whitespace in between them:\n",
    "n = str(planets).replace(\"'\", \"\").replace('[', '').replace(']', '').replace(' ', '') # replace everthing by empty-strings\n",
    "print(n) # Final output "
   ]
  },
  {
   "cell_type": "markdown",
   "metadata": {},
   "source": [
    "## <a id=\"package-install\" style=\"color:black; text-decoration: none;\">Installation of Packages</a>\n",
    "---\n",
    "\n",
    "### <u>Installing with package-manager `conda`</u>:\n",
    "\n",
    "`Conda` is a package manager, which will - before starting to install a package that you want - check which dependencies are needed for the package to be able to be used. \n",
    "\n",
    "- <u>Example</u>: If you use `sktime`, then `conda` can detect that there ma be a conflict with the _current version_ of - for example - the `package Tornado`. *Hence, `conda` will not only download `sktime`, but will also bring the package `Tornado` onto a newer version, such tht it will become compatible with `sktime`.\n",
    "- <u>Note</u>: The installation via `conda` can take a while, since many dependencies will be checked!\n",
    "- <u>Improtant</u>: Use `the terminal` for the following code.\n",
    "\n",
    "#### To install a specific package - for example - `sktime` into an existing virtual-environment called `\"myenv\"`, type the following into the terminal:"
   ]
  },
  {
   "cell_type": "code",
   "execution_count": null,
   "metadata": {},
   "outputs": [],
   "source": [
    "conda install --name myenv sktime"
   ]
  },
  {
   "cell_type": "markdown",
   "metadata": {},
   "source": [
    "#### Install the package `sktime` into the current (global) environment (= dh \"normally\"), type the following into the terminal:"
   ]
  },
  {
   "cell_type": "code",
   "execution_count": null,
   "metadata": {},
   "outputs": [],
   "source": [
    "conda install sktime"
   ]
  },
  {
   "cell_type": "markdown",
   "metadata": {},
   "source": [
    "### <u>Installing packages with `pip`</u>:\n",
    "\n",
    "Der **Nachteil** von `pip install [some package-name here]` VS. `conda install [some package-name here]` liegt darin, dass `pip` <u>keine</u> Checks macht, ob die Versionen von verschiedenen Packages, die man verwendet, überhaupt kompatibel sind.\n",
    "\n",
    "#### Alternative Installation, by using `pip` within the terminal:"
   ]
  },
  {
   "cell_type": "code",
   "execution_count": null,
   "metadata": {},
   "outputs": [],
   "source": [
    "pip install sktime"
   ]
  },
  {
   "cell_type": "markdown",
   "metadata": {},
   "source": [
    "### <u>Install some Packages // Modules, or Sub-Modules</u>:"
   ]
  },
  {
   "cell_type": "code",
   "execution_count": 3,
   "metadata": {},
   "outputs": [],
   "source": [
    "import numpy as np\n",
    "import matplotlib.pyplot as plt\n",
    "from matplotlib.dates import date2num\n",
    "import pandas as pd\n",
    "from scipy import stats\n",
    "from datetime import datetime"
   ]
  },
  {
   "cell_type": "markdown",
   "metadata": {},
   "source": [
    "### <u><a id=\"deinstall-pip\" style=\"color:black; text-decoration: none;\">Deinstall Packages mit `Pip`</a></u>:"
   ]
  },
  {
   "cell_type": "code",
   "execution_count": null,
   "metadata": {},
   "outputs": [],
   "source": [
    "pip uninstall fbprophet prophet cmdstanpy"
   ]
  },
  {
   "cell_type": "markdown",
   "metadata": {},
   "source": [
    "## <a id=\"help\" style=\"color:black; text-decoration: none;\">Need help & documentation</a>\n",
    "---"
   ]
  },
  {
   "cell_type": "code",
   "execution_count": null,
   "metadata": {},
   "outputs": [
    {
     "name": "stdout",
     "output_type": "stream",
     "text": [
      "\n",
      "Welcome to Python 3.8's help utility!\n",
      "\n",
      "If this is your first time using Python, you should definitely check out\n",
      "the tutorial on the Internet at https://docs.python.org/3.8/tutorial/.\n",
      "\n",
      "Enter the name of any module, keyword, or topic to get help on writing\n",
      "Python programs and using Python modules.  To quit this help utility and\n",
      "return to the interpreter, just type \"quit\".\n",
      "\n",
      "To get a list of available modules, keywords, symbols, or topics, type\n",
      "\"modules\", \"keywords\", \"symbols\", or \"topics\".  Each module also comes\n",
      "with a one-line summary of what it does; to list the modules whose name\n",
      "or summary contain a given string such as \"spam\", type \"modules spam\".\n",
      "\n"
     ]
    }
   ],
   "source": [
    "help()"
   ]
  },
  {
   "cell_type": "markdown",
   "metadata": {},
   "source": [
    "# <a id=\"path\" style=\"color:black; text-decoration: none;\">Path Handling</a>\n",
    "---\n",
    "\n",
    "*Sehr oft wirst du Modelle, die eventuell stundenlang gelernt haben oder Daten-Files etc... laden & speichern müssen. Hierfür ist es von hoher Bedeutung, dass du gut mit Pfaden umgehen kannst, insbesondere mit der Library `os`!*\n",
    "\n",
    "Zwei Haupt-Formate, die du verwenden wirst für das Abspeichern &amp; Laden von Files, sind:\n",
    "\n",
    "- Das `.csv`-Format.\n",
    "- Das `.pkl`-Format.\n",
    "- etc... Es gibt noch viele andere Formate, aber die obigen beiden sind die wichtigsten, denen ich bisher begegnet bin."
   ]
  },
  {
   "cell_type": "markdown",
   "metadata": {},
   "source": [
    "### <u>Set the Path, where your Computer should Save Data / Models</u>"
   ]
  },
  {
   "cell_type": "code",
   "execution_count": 5,
   "metadata": {},
   "outputs": [
    {
     "data": {
      "text/plain": [
       "'/Users/jomaye/Dokumente/Programming'"
      ]
     },
     "execution_count": 5,
     "metadata": {},
     "output_type": "execute_result"
    }
   ],
   "source": [
    "# Read data // Load data\n",
    "---import os # this is the library that can handle paths\n",
    "\n",
    "save_folder = os.path.expanduser(os.path.join(\"~\", # our User's \"home\"-directory --> for my Mac it is: \"/Users/jomaye\" \n",
    "                                              \"Dokumente\", # Next, we jump 1 directory called \"Dokumente\" further below\n",
    "                                              \"Programming\")) # Allgemeint: each string after a Komma is a new directory you can set. This can go on infinitively ;)\n",
    "\n",
    "\n",
    "save_folder # check if it worked? --> yes! Now you see your path =)"
   ]
  },
  {
   "cell_type": "markdown",
   "metadata": {},
   "source": [
    "# <a id=\"saving\" style=\"color:black; text-decoration: none;\">Save data</a>\n",
    "---\n",
    "\n",
    "### <u><a id=\"save-csv\" style=\"color:black; text-decoration: none;\">Save as CSV-File</u></a>:"
   ]
  },
  {
   "cell_type": "code",
   "execution_count": null,
   "metadata": {},
   "outputs": [],
   "source": [
    "dynamic_name = \"name_of_a_specific_characteristic_of_the_variable_that_you_want_to_save\" # this is needed for \"dynamisches speichern\" via F-String  \n",
    "YOUR_VAR_NAME.to_csv(f\"Name-of-the-CSV-{dynamic_name}.csv\") # I use f-strings since it allows me to adapt the CSV-filenames to a specific characteristic, that I used for a model / method etc..."
   ]
  },
  {
   "cell_type": "markdown",
   "metadata": {},
   "source": [
    "# <a id=\"read-data\" style=\"color:black; text-decoration: none;\">Read data // Load data</a>\n",
    "---\n",
    "\n",
    "In order to load datasets, you will need the library `pandas`. For *some* cases, additional libraries may be needed.\n",
    "\n",
    "### <a id=\"load-excel\" style=\"color:black; text-decoration: none;\"><u>Load data from Excel-Sheets</u></a>:"
   ]
  },
  {
   "cell_type": "code",
   "execution_count": null,
   "metadata": {},
   "outputs": [],
   "source": [
    "epex_df = pd.read_excel(\"./Data_V2/Preis_aktuell_Spot_EEX_CH-19-ver-mac.xlsx\", # plug in the correct path\n",
    "                        header=[1], # The dataset Column-names beginnt ab 2. Zeile (--> 1. Zeile ist der Titel des Excel-Files)\n",
    "                        sheet_name='Prices', # If you have more than 1 Excel-Sheet within the Excel-File, you need to specify\n",
    "                        # which sheet you want to load\n",
    "                        engine='openpyxl') # This input will (sometimes) be needed if you load data from an Excel-File via \n",
    "                                           # a Windows-Computer, otherwise it can print an error!\n",
    "epex_df # output the ddset a"
   ]
  },
  {
   "cell_type": "markdown",
   "metadata": {},
   "source": [
    "### <a id=\"load-csv\" style=\"color:black; text-decoration: none;\"><u>Load Dataset via a CSV-File</u></a>:"
   ]
  },
  {
   "cell_type": "code",
   "execution_count": 15,
   "metadata": {},
   "outputs": [],
   "source": [
    "test = pd.read_csv(\n",
    "    \"C:/Users/u235051/Downloads/ETS_Database_v38/ETS_Database_v38.csv\", \n",
    "    sep='\\t' # Im CSV-File waren die Spalten via \"Tab\"-Taste separiert, deshalb diese option zwingend anzugeben ist (ansonsten Error!)\n",
    ") "
   ]
  },
  {
   "cell_type": "code",
   "execution_count": 16,
   "metadata": {},
   "outputs": [
    {
     "data": {
      "text/html": [
       "<div>\n",
       "<style scoped>\n",
       "    .dataframe tbody tr th:only-of-type {\n",
       "        vertical-align: middle;\n",
       "    }\n",
       "\n",
       "    .dataframe tbody tr th {\n",
       "        vertical-align: top;\n",
       "    }\n",
       "\n",
       "    .dataframe thead th {\n",
       "        text-align: right;\n",
       "    }\n",
       "</style>\n",
       "<table border=\"1\" class=\"dataframe\">\n",
       "  <thead>\n",
       "    <tr style=\"text-align: right;\">\n",
       "      <th></th>\n",
       "      <th>country</th>\n",
       "      <th>country_code</th>\n",
       "      <th>ETS information</th>\n",
       "      <th>main activity sector name</th>\n",
       "      <th>unit</th>\n",
       "      <th>value</th>\n",
       "      <th>year</th>\n",
       "    </tr>\n",
       "  </thead>\n",
       "  <tbody>\n",
       "    <tr>\n",
       "      <th>0</th>\n",
       "      <td>Belgium</td>\n",
       "      <td>BE</td>\n",
       "      <td>2. Verified emissions</td>\n",
       "      <td>35 Production of pulp</td>\n",
       "      <td>tonne of CO2 equ.</td>\n",
       "      <td>102581.0</td>\n",
       "      <td>2009</td>\n",
       "    </tr>\n",
       "    <tr>\n",
       "      <th>1</th>\n",
       "      <td>Belgium</td>\n",
       "      <td>BE</td>\n",
       "      <td>2. Verified emissions</td>\n",
       "      <td>35 Production of pulp</td>\n",
       "      <td>tonne of CO2 equ.</td>\n",
       "      <td>106671.0</td>\n",
       "      <td>2011</td>\n",
       "    </tr>\n",
       "    <tr>\n",
       "      <th>2</th>\n",
       "      <td>Belgium</td>\n",
       "      <td>BE</td>\n",
       "      <td>2. Verified emissions</td>\n",
       "      <td>35 Production of pulp</td>\n",
       "      <td>tonne of CO2 equ.</td>\n",
       "      <td>126702.0</td>\n",
       "      <td>2012</td>\n",
       "    </tr>\n",
       "    <tr>\n",
       "      <th>3</th>\n",
       "      <td>Belgium</td>\n",
       "      <td>BE</td>\n",
       "      <td>4. Total surrendered units</td>\n",
       "      <td>35 Production of pulp</td>\n",
       "      <td>tonne of CO2 equ.</td>\n",
       "      <td>98349.0</td>\n",
       "      <td>2007</td>\n",
       "    </tr>\n",
       "    <tr>\n",
       "      <th>4</th>\n",
       "      <td>Belgium</td>\n",
       "      <td>BE</td>\n",
       "      <td>4. Total surrendered units</td>\n",
       "      <td>35 Production of pulp</td>\n",
       "      <td>tonne of CO2 equ.</td>\n",
       "      <td>96708.0</td>\n",
       "      <td>2008</td>\n",
       "    </tr>\n",
       "    <tr>\n",
       "      <th>...</th>\n",
       "      <td>...</td>\n",
       "      <td>...</td>\n",
       "      <td>...</td>\n",
       "      <td>...</td>\n",
       "      <td>...</td>\n",
       "      <td>...</td>\n",
       "      <td>...</td>\n",
       "    </tr>\n",
       "    <tr>\n",
       "      <th>57389</th>\n",
       "      <td>Hungary</td>\n",
       "      <td>HU</td>\n",
       "      <td>2. Verified emissions</td>\n",
       "      <td>10 Aviation</td>\n",
       "      <td>tonne of CO2 equ.</td>\n",
       "      <td>12599748.0</td>\n",
       "      <td>Total 3rd trading period (13-20)</td>\n",
       "    </tr>\n",
       "    <tr>\n",
       "      <th>57390</th>\n",
       "      <td>Hungary</td>\n",
       "      <td>HU</td>\n",
       "      <td>1.1.3 Free allocation for modernisation of ele...</td>\n",
       "      <td>23 Metal ore roasting or sintering</td>\n",
       "      <td>tonne of CO2 equ.</td>\n",
       "      <td>0.0</td>\n",
       "      <td>Total 3rd trading period (13-20)</td>\n",
       "    </tr>\n",
       "    <tr>\n",
       "      <th>57391</th>\n",
       "      <td>Hungary</td>\n",
       "      <td>HU</td>\n",
       "      <td>1.1.3 Free allocation for modernisation of ele...</td>\n",
       "      <td>30 Production of lime, or calcination of dolom...</td>\n",
       "      <td>tonne of CO2 equ.</td>\n",
       "      <td>0.0</td>\n",
       "      <td>Total 3rd trading period (13-20)</td>\n",
       "    </tr>\n",
       "    <tr>\n",
       "      <th>57392</th>\n",
       "      <td>Hungary</td>\n",
       "      <td>HU</td>\n",
       "      <td>4. Total surrendered units</td>\n",
       "      <td>43 Production of hydrogen and synthesis gas</td>\n",
       "      <td>tonne of CO2 equ.</td>\n",
       "      <td>883972.0</td>\n",
       "      <td>Total 3rd trading period (13-20)</td>\n",
       "    </tr>\n",
       "    <tr>\n",
       "      <th>57393</th>\n",
       "      <td>Ireland</td>\n",
       "      <td>IE</td>\n",
       "      <td>1.1.3 Free allocation for modernisation of ele...</td>\n",
       "      <td>10 Aviation</td>\n",
       "      <td>tonne of CO2 equ.</td>\n",
       "      <td>0.0</td>\n",
       "      <td>Total 3rd trading period (13-20)</td>\n",
       "    </tr>\n",
       "  </tbody>\n",
       "</table>\n",
       "<p>57394 rows × 7 columns</p>\n",
       "</div>"
      ],
      "text/plain": [
       "       country country_code  \\\n",
       "0      Belgium           BE   \n",
       "1      Belgium           BE   \n",
       "2      Belgium           BE   \n",
       "3      Belgium           BE   \n",
       "4      Belgium           BE   \n",
       "...        ...          ...   \n",
       "57389  Hungary           HU   \n",
       "57390  Hungary           HU   \n",
       "57391  Hungary           HU   \n",
       "57392  Hungary           HU   \n",
       "57393  Ireland           IE   \n",
       "\n",
       "                                         ETS information  \\\n",
       "0                                  2. Verified emissions   \n",
       "1                                  2. Verified emissions   \n",
       "2                                  2. Verified emissions   \n",
       "3                             4. Total surrendered units   \n",
       "4                             4. Total surrendered units   \n",
       "...                                                  ...   \n",
       "57389                              2. Verified emissions   \n",
       "57390  1.1.3 Free allocation for modernisation of ele...   \n",
       "57391  1.1.3 Free allocation for modernisation of ele...   \n",
       "57392                         4. Total surrendered units   \n",
       "57393  1.1.3 Free allocation for modernisation of ele...   \n",
       "\n",
       "                               main activity sector name               unit  \\\n",
       "0                                  35 Production of pulp  tonne of CO2 equ.   \n",
       "1                                  35 Production of pulp  tonne of CO2 equ.   \n",
       "2                                  35 Production of pulp  tonne of CO2 equ.   \n",
       "3                                  35 Production of pulp  tonne of CO2 equ.   \n",
       "4                                  35 Production of pulp  tonne of CO2 equ.   \n",
       "...                                                  ...                ...   \n",
       "57389                                        10 Aviation  tonne of CO2 equ.   \n",
       "57390                 23 Metal ore roasting or sintering  tonne of CO2 equ.   \n",
       "57391  30 Production of lime, or calcination of dolom...  tonne of CO2 equ.   \n",
       "57392        43 Production of hydrogen and synthesis gas  tonne of CO2 equ.   \n",
       "57393                                        10 Aviation  tonne of CO2 equ.   \n",
       "\n",
       "            value                              year  \n",
       "0        102581.0                              2009  \n",
       "1        106671.0                              2011  \n",
       "2        126702.0                              2012  \n",
       "3         98349.0                              2007  \n",
       "4         96708.0                              2008  \n",
       "...           ...                               ...  \n",
       "57389  12599748.0  Total 3rd trading period (13-20)  \n",
       "57390         0.0  Total 3rd trading period (13-20)  \n",
       "57391         0.0  Total 3rd trading period (13-20)  \n",
       "57392    883972.0  Total 3rd trading period (13-20)  \n",
       "57393         0.0  Total 3rd trading period (13-20)  \n",
       "\n",
       "[57394 rows x 7 columns]"
      ]
     },
     "execution_count": 16,
     "metadata": {},
     "output_type": "execute_result"
    }
   ],
   "source": [
    "test"
   ]
  },
  {
   "cell_type": "markdown",
   "metadata": {},
   "source": [
    "### <a id=\"load-url\" style=\"color:black; text-decoration: none;\"><u>Load Dataset via a URL from a Website</u></a>:\n",
    "\n",
    "In order to be able to **access a dataset stored as a csv-file on a website**, we will need to use - *besides* `pandas` - an additional library called `requests`. \n",
    "\n",
    "#### <u>Step 1</u>: \n",
    "\n",
    "Make the file ready to be downloaded be sending a query to the remote-server // website that hosts the csv-file."
   ]
  },
  {
   "cell_type": "code",
   "execution_count": 20,
   "metadata": {},
   "outputs": [
    {
     "name": "stdout",
     "output_type": "stream",
     "text": [
      "Download ready.\n"
     ]
    }
   ],
   "source": [
    "import requests # load the library needed\n",
    "\n",
    "download_url = \"https://raw.githubusercontent.com/fivethirtyeight/data/master/nba-elo/nbaallelo.csv\" # absolute URL\n",
    "target_csv_path = \"nba_all_elo.csv\" # name of the .csv-file that contains the data\n",
    "\n",
    "response = requests.get(download_url) # using an API that \"gets\" (= http-protocol language) the data from the server\n",
    "response.raise_for_status()    # Check that the request was successful\n",
    "with open(target_csv_path, \"wb\") as f:\n",
    "    f.write(response.content)\n",
    "print(\"Download ready.\")"
   ]
  },
  {
   "cell_type": "markdown",
   "metadata": {},
   "source": [
    "#### <u>Step 2</u>:\n",
    "\n",
    "Load the actual data."
   ]
  },
  {
   "cell_type": "code",
   "execution_count": 21,
   "metadata": {},
   "outputs": [
    {
     "data": {
      "text/plain": [
       "pandas.core.frame.DataFrame"
      ]
     },
     "execution_count": 21,
     "metadata": {},
     "output_type": "execute_result"
    }
   ],
   "source": [
    "import pandas as pd # load the library needed\n",
    "\n",
    "nba = pd.read_csv(\"nba_all_elo.csv\") # load the data --> ddset is called 'nba'\n",
    "\n",
    "type(nba) # check if it worked? --> should output: <class 'pandas.core.frame.DataFrame'>"
   ]
  },
  {
   "cell_type": "code",
   "execution_count": 22,
   "metadata": {},
   "outputs": [
    {
     "data": {
      "text/html": [
       "<div>\n",
       "<style scoped>\n",
       "    .dataframe tbody tr th:only-of-type {\n",
       "        vertical-align: middle;\n",
       "    }\n",
       "\n",
       "    .dataframe tbody tr th {\n",
       "        vertical-align: top;\n",
       "    }\n",
       "\n",
       "    .dataframe thead th {\n",
       "        text-align: right;\n",
       "    }\n",
       "</style>\n",
       "<table border=\"1\" class=\"dataframe\">\n",
       "  <thead>\n",
       "    <tr style=\"text-align: right;\">\n",
       "      <th></th>\n",
       "      <th>gameorder</th>\n",
       "      <th>game_id</th>\n",
       "      <th>lg_id</th>\n",
       "      <th>_iscopy</th>\n",
       "      <th>year_id</th>\n",
       "      <th>date_game</th>\n",
       "      <th>seasongame</th>\n",
       "      <th>is_playoffs</th>\n",
       "      <th>team_id</th>\n",
       "      <th>fran_id</th>\n",
       "      <th>...</th>\n",
       "      <th>win_equiv</th>\n",
       "      <th>opp_id</th>\n",
       "      <th>opp_fran</th>\n",
       "      <th>opp_pts</th>\n",
       "      <th>opp_elo_i</th>\n",
       "      <th>opp_elo_n</th>\n",
       "      <th>game_location</th>\n",
       "      <th>game_result</th>\n",
       "      <th>forecast</th>\n",
       "      <th>notes</th>\n",
       "    </tr>\n",
       "  </thead>\n",
       "  <tbody>\n",
       "    <tr>\n",
       "      <th>0</th>\n",
       "      <td>1</td>\n",
       "      <td>194611010TRH</td>\n",
       "      <td>NBA</td>\n",
       "      <td>0</td>\n",
       "      <td>1947</td>\n",
       "      <td>11/1/1946</td>\n",
       "      <td>1</td>\n",
       "      <td>0</td>\n",
       "      <td>TRH</td>\n",
       "      <td>Huskies</td>\n",
       "      <td>...</td>\n",
       "      <td>40.294830</td>\n",
       "      <td>NYK</td>\n",
       "      <td>Knicks</td>\n",
       "      <td>68</td>\n",
       "      <td>1300.0000</td>\n",
       "      <td>1306.7233</td>\n",
       "      <td>H</td>\n",
       "      <td>L</td>\n",
       "      <td>0.640065</td>\n",
       "      <td>NaN</td>\n",
       "    </tr>\n",
       "    <tr>\n",
       "      <th>1</th>\n",
       "      <td>1</td>\n",
       "      <td>194611010TRH</td>\n",
       "      <td>NBA</td>\n",
       "      <td>1</td>\n",
       "      <td>1947</td>\n",
       "      <td>11/1/1946</td>\n",
       "      <td>1</td>\n",
       "      <td>0</td>\n",
       "      <td>NYK</td>\n",
       "      <td>Knicks</td>\n",
       "      <td>...</td>\n",
       "      <td>41.705170</td>\n",
       "      <td>TRH</td>\n",
       "      <td>Huskies</td>\n",
       "      <td>66</td>\n",
       "      <td>1300.0000</td>\n",
       "      <td>1293.2767</td>\n",
       "      <td>A</td>\n",
       "      <td>W</td>\n",
       "      <td>0.359935</td>\n",
       "      <td>NaN</td>\n",
       "    </tr>\n",
       "    <tr>\n",
       "      <th>2</th>\n",
       "      <td>2</td>\n",
       "      <td>194611020CHS</td>\n",
       "      <td>NBA</td>\n",
       "      <td>0</td>\n",
       "      <td>1947</td>\n",
       "      <td>11/2/1946</td>\n",
       "      <td>1</td>\n",
       "      <td>0</td>\n",
       "      <td>CHS</td>\n",
       "      <td>Stags</td>\n",
       "      <td>...</td>\n",
       "      <td>42.012257</td>\n",
       "      <td>NYK</td>\n",
       "      <td>Knicks</td>\n",
       "      <td>47</td>\n",
       "      <td>1306.7233</td>\n",
       "      <td>1297.0712</td>\n",
       "      <td>H</td>\n",
       "      <td>W</td>\n",
       "      <td>0.631101</td>\n",
       "      <td>NaN</td>\n",
       "    </tr>\n",
       "    <tr>\n",
       "      <th>3</th>\n",
       "      <td>2</td>\n",
       "      <td>194611020CHS</td>\n",
       "      <td>NBA</td>\n",
       "      <td>1</td>\n",
       "      <td>1947</td>\n",
       "      <td>11/2/1946</td>\n",
       "      <td>2</td>\n",
       "      <td>0</td>\n",
       "      <td>NYK</td>\n",
       "      <td>Knicks</td>\n",
       "      <td>...</td>\n",
       "      <td>40.692783</td>\n",
       "      <td>CHS</td>\n",
       "      <td>Stags</td>\n",
       "      <td>63</td>\n",
       "      <td>1300.0000</td>\n",
       "      <td>1309.6521</td>\n",
       "      <td>A</td>\n",
       "      <td>L</td>\n",
       "      <td>0.368899</td>\n",
       "      <td>NaN</td>\n",
       "    </tr>\n",
       "    <tr>\n",
       "      <th>4</th>\n",
       "      <td>3</td>\n",
       "      <td>194611020DTF</td>\n",
       "      <td>NBA</td>\n",
       "      <td>0</td>\n",
       "      <td>1947</td>\n",
       "      <td>11/2/1946</td>\n",
       "      <td>1</td>\n",
       "      <td>0</td>\n",
       "      <td>DTF</td>\n",
       "      <td>Falcons</td>\n",
       "      <td>...</td>\n",
       "      <td>38.864048</td>\n",
       "      <td>WSC</td>\n",
       "      <td>Capitols</td>\n",
       "      <td>50</td>\n",
       "      <td>1300.0000</td>\n",
       "      <td>1320.3811</td>\n",
       "      <td>H</td>\n",
       "      <td>L</td>\n",
       "      <td>0.640065</td>\n",
       "      <td>NaN</td>\n",
       "    </tr>\n",
       "  </tbody>\n",
       "</table>\n",
       "<p>5 rows × 23 columns</p>\n",
       "</div>"
      ],
      "text/plain": [
       "   gameorder       game_id lg_id  _iscopy  year_id  date_game  seasongame  \\\n",
       "0          1  194611010TRH   NBA        0     1947  11/1/1946           1   \n",
       "1          1  194611010TRH   NBA        1     1947  11/1/1946           1   \n",
       "2          2  194611020CHS   NBA        0     1947  11/2/1946           1   \n",
       "3          2  194611020CHS   NBA        1     1947  11/2/1946           2   \n",
       "4          3  194611020DTF   NBA        0     1947  11/2/1946           1   \n",
       "\n",
       "   is_playoffs team_id  fran_id  ...  win_equiv  opp_id  opp_fran  opp_pts  \\\n",
       "0            0     TRH  Huskies  ...  40.294830     NYK    Knicks       68   \n",
       "1            0     NYK   Knicks  ...  41.705170     TRH   Huskies       66   \n",
       "2            0     CHS    Stags  ...  42.012257     NYK    Knicks       47   \n",
       "3            0     NYK   Knicks  ...  40.692783     CHS     Stags       63   \n",
       "4            0     DTF  Falcons  ...  38.864048     WSC  Capitols       50   \n",
       "\n",
       "   opp_elo_i  opp_elo_n  game_location  game_result  forecast notes  \n",
       "0  1300.0000  1306.7233              H            L  0.640065   NaN  \n",
       "1  1300.0000  1293.2767              A            W  0.359935   NaN  \n",
       "2  1306.7233  1297.0712              H            W  0.631101   NaN  \n",
       "3  1300.0000  1309.6521              A            L  0.368899   NaN  \n",
       "4  1300.0000  1320.3811              H            L  0.640065   NaN  \n",
       "\n",
       "[5 rows x 23 columns]"
      ]
     },
     "execution_count": 22,
     "metadata": {},
     "output_type": "execute_result"
    }
   ],
   "source": [
    "nba.head()"
   ]
  },
  {
   "cell_type": "markdown",
   "metadata": {},
   "source": [
    "### <a id=\"load-pickle\" style=\"color:black; text-decoration: none;\"><u>Load Pickle-Files</u></a>:\n"
   ]
  },
  {
   "cell_type": "code",
   "execution_count": null,
   "metadata": {},
   "outputs": [],
   "source": [
    "filename = \"Put_Your_Pickle-File_Name_Here\" # Alternativ: os.path.join(data_folder_variable_where_pkl_is_saved, filename)\n",
    "test_loaded_pkl =  pickle.load(open(filename, 'rb'))"
   ]
  },
  {
   "cell_type": "markdown",
   "metadata": {},
   "source": [
    "# <a id=\"vanilla-exploration\" style=\"color:black; text-decoration: none;\">Vanilla Exploration of your Dataset</a>\n",
    "---"
   ]
  },
  {
   "cell_type": "markdown",
   "metadata": {},
   "source": [
    "<u>After</u> having told Python to read in your dataset, the **first thing** you will want to do is to <mark>get (very) familiar with your dataset</mark>. This is **key**, otherwise you will <u>not</u> be able to perform a good data analysis!\n",
    "\n",
    "### <a id=\"number-of-rows\" style=\"color:black; text-decoration: none;\"><u>Find out the number of `observations` // rows in your dataset</u></a>:"
   ]
  },
  {
   "cell_type": "code",
   "execution_count": null,
   "metadata": {},
   "outputs": [],
   "source": [
    "len(nba) # to get the number of observations // rows \n",
    "\n",
    "    # note: 'nba' is the name of the ddset"
   ]
  },
  {
   "cell_type": "markdown",
   "metadata": {},
   "source": [
    "### <u>Find out the number of `rows` &amp; `columns` within your dataset</u>:"
   ]
  },
  {
   "cell_type": "code",
   "execution_count": null,
   "metadata": {},
   "outputs": [],
   "source": [
    "nba.shape # to get number of rows AND columns\n",
    "\n",
    "    # note: 'nba' is the name of the ddset"
   ]
  },
  {
   "cell_type": "markdown",
   "metadata": {},
   "source": [
    "### <a id=\"view-all-ddset\" style=\"color:black; text-decoration: none;\"><u>`View` the <mark>whole</mark> Dataset</u></a>:"
   ]
  },
  {
   "cell_type": "code",
   "execution_count": null,
   "metadata": {},
   "outputs": [],
   "source": [
    "nba # just type in the name of the variable in which your dataframe is stored in --> 'nba' is the name of your dataframe here"
   ]
  },
  {
   "cell_type": "markdown",
   "metadata": {},
   "source": [
    "### <a id=\"view-first-five\" style=\"color:black; text-decoration: none;\"><u>`View` the first 5-rows of your dataset</u></a>:"
   ]
  },
  {
   "cell_type": "code",
   "execution_count": null,
   "metadata": {},
   "outputs": [],
   "source": [
    "nba.head() # head() is often used to check whether your dataset really contains data you care about \n",
    "\n",
    "    # here we check: does the ddset really contains data about the NBA?"
   ]
  },
  {
   "cell_type": "markdown",
   "metadata": {},
   "source": [
    "**<u>Achtung</u>**: If you have alot of columns, Python will not display them all when you use `head()`. <u>However</u> you can change the settings via:"
   ]
  },
  {
   "cell_type": "code",
   "execution_count": null,
   "metadata": {},
   "outputs": [],
   "source": [
    "pd.set_option(\"display.max.columns\", None) # this will tell Python: \"show me ALL the columns!\"\n",
    "\n",
    "nba.head() # execute 'head()' again to check if the setting changed correclty? --> yes!"
   ]
  },
  {
   "cell_type": "markdown",
   "metadata": {},
   "source": [
    "#### <a id=\"view-last-five\" style=\"color:black; text-decoration: none;\">You can also `View` the 5 last rows of your dataset by using `tails()`</a>:"
   ]
  },
  {
   "cell_type": "code",
   "execution_count": null,
   "metadata": {},
   "outputs": [],
   "source": [
    "nba.tail() # View last 5 rows\n",
    "\n",
    "# Viewing very specific rows is also possible: \n",
    "nba.tail(3) # Here, we view the last 3 rows"
   ]
  },
  {
   "cell_type": "markdown",
   "metadata": {},
   "source": [
    "### <a id=\"missings-per-column\" style=\"color:black; text-decoration: none;\"><u>Find out the `Data Type` of each column within your dataset &amp; number of `non-missing values`</u></a>:\n",
    "\n",
    "With the following simple code, we can find out, whether the columns are from the type of an `integer`, a `string`, a `boolean` etc... "
   ]
  },
  {
   "cell_type": "code",
   "execution_count": null,
   "metadata": {},
   "outputs": [],
   "source": [
    "nba.info() # this will output all the types of each column in your dataset & how many NON-missings you have per column\n",
    "\n",
    "    # note: Pay attention to any columns that are from the type 'object'! --> lese bemerkung unten..."
   ]
  },
  {
   "cell_type": "markdown",
   "metadata": {},
   "source": [
    "[To get a beautiful overview over all types that exist in Python, I recommend you to visit the website of W3Schools.com](https://www.w3schools.com/python/python_datatypes.asp)\n",
    "\n",
    "**<u>Bemerkung hier</u>**: It can be, that columns are from the type `object`. In practice, it often means that *all* of the values in an `object`-column are <u>strings</u>. If you encounter any `object`-columns, it is strongly recommended that you convert them into a more apropriate `data-type`, otherwise some of the functions won't work on these `object`-columns..."
   ]
  },
  {
   "cell_type": "markdown",
   "metadata": {},
   "source": [
    "#### <a id=\"find-data-type\" style=\"color:black; text-decoration: none;\">Find the `type` of *any* object in Python</a>:"
   ]
  },
  {
   "cell_type": "code",
   "execution_count": null,
   "metadata": {},
   "outputs": [],
   "source": [
    "x = 5\n",
    "print(type(x))"
   ]
  },
  {
   "cell_type": "markdown",
   "metadata": {},
   "source": [
    "### <a id=\"drop-columns\" style=\"color:black; text-decoration: none;\"><u>Drop specific Columns</u></a>:\n",
    "\n",
    "Note that `axis = 1` denotes the columns that will be droped, while `axis = 0` (default), will denote the rows that should be dropped."
   ]
  },
  {
   "cell_type": "code",
   "execution_count": null,
   "metadata": {},
   "outputs": [],
   "source": [
    "df_energy = df_energy.drop(['tInfoDaySin', 'tInfoDayCos', 'tInfoYearSin', 'tInfoYearCos'], axis=1)"
   ]
  },
  {
   "cell_type": "markdown",
   "metadata": {},
   "source": [
    "### <a id=\"rename-columns\" style=\"color:black; text-decoration: none;\"><u>Re-Name the Columns of a DataFrame</u></a>:"
   ]
  },
  {
   "cell_type": "code",
   "execution_count": null,
   "metadata": {},
   "outputs": [],
   "source": [
    "df2 = df.rename({'oldName1': 'newName1', 'oldName2': 'newName2'}, axis='columns') # not all columns have to be renamed, only those with a new name"
   ]
  },
  {
   "cell_type": "markdown",
   "metadata": {},
   "source": [
    "### <a id=\"reset-and-set-idx\" style=\"color:black; text-decoration: none;\"><u>Set &amp; Reset the Index / Row-Label</u></a>:"
   ]
  },
  {
   "cell_type": "code",
   "execution_count": null,
   "metadata": {},
   "outputs": [],
   "source": [
    "df_energy = df_energy.set_index('Date-Time') # to set the index"
   ]
  },
  {
   "cell_type": "code",
   "execution_count": null,
   "metadata": {},
   "outputs": [],
   "source": [
    "df_energy = df_energy.reset_index() # to reset the index --> df.reset_index(drop= True) will drop the index, which would \n",
    "                                    # otherwise become a new column instead of just dropping it!"
   ]
  },
  {
   "cell_type": "markdown",
   "metadata": {},
   "source": [
    "### <a id=\"summary-ddset\" style=\"color:black; text-decoration: none;\"><u>Make a `Summary` out of all the variables in your dataset</u></a>:\n",
    "\n",
    "Note that, in order to be able to do some **summary-statistics**, you will need the additional library `numpy`."
   ]
  },
  {
   "cell_type": "code",
   "execution_count": null,
   "metadata": {},
   "outputs": [],
   "source": [
    "import numpy as np # load numpy for summary-statistics\n",
    "\n",
    "nba.describe().round(2) # results will be rounded onto 2 digits"
   ]
  },
  {
   "cell_type": "markdown",
   "metadata": {},
   "source": [
    "**<u>Achtung</u>**: If you have columns from the type `object`, you will need a slightly different version of the `describe()` function to display some summary-statistics from such columns."
   ]
  },
  {
   "cell_type": "code",
   "execution_count": null,
   "metadata": {},
   "outputs": [],
   "source": [
    "nba.describe(include=object) # if you have some weird columns being of the type 'object'"
   ]
  },
  {
   "cell_type": "markdown",
   "metadata": {},
   "source": [
    "### <a id=\"unique-values\" style=\"color:black; text-decoration: none;\"><u>Find the unique values from a column</u></a>:\n",
    "\n",
    "This can be useful, when you want to filter all unique `categories` within a column. You can then put all those categories wihtin a new variable in order to loop through them to apply some function to those. "
   ]
  },
  {
   "cell_type": "code",
   "execution_count": null,
   "metadata": {},
   "outputs": [],
   "source": [
    "gapminder['continent'].unique()"
   ]
  },
  {
   "cell_type": "markdown",
   "metadata": {},
   "source": [
    "### <a id=\"median-and-mean\" style=\"color:black; text-decoration: none;\"><u>Calculating the `mean` or `median` from a particular column</u></a>:\n",
    "\n",
    "For the <u>**mean**</u>, you will need the following code."
   ]
  },
  {
   "cell_type": "code",
   "execution_count": null,
   "metadata": {},
   "outputs": [],
   "source": [
    "mean_points = reviews.points.mean() # calculate the mean of the column 'points' within the ddset 'reviews'"
   ]
  },
  {
   "cell_type": "markdown",
   "metadata": {},
   "source": [
    "<u>For the **median**</u>:"
   ]
  },
  {
   "cell_type": "code",
   "execution_count": null,
   "metadata": {},
   "outputs": [],
   "source": [
    "median_points = reviews.points.median() # calculate the median of the column 'points' within the ddset 'reviews'"
   ]
  },
  {
   "cell_type": "markdown",
   "metadata": {},
   "source": [
    "### <a id=\"apply-a-function-based-on-cond\" style=\"color:black; text-decoration: none;\"><u>Transform a column based on conditions with `numpy`</u></a>:"
   ]
  },
  {
   "cell_type": "code",
   "execution_count": 71,
   "metadata": {},
   "outputs": [
    {
     "data": {
      "text/plain": [
       "array([ 0.,  1.,  2., nan, nan, nan, 36., 49., 64., 81.])"
      ]
     },
     "execution_count": 71,
     "metadata": {},
     "output_type": "execute_result"
    }
   ],
   "source": [
    "import numpy as np # In order to be able to perform a transformation, we will need the `numpy`-package\n",
    "\n",
    "# set-up:\n",
    "x = np.arange(10) # this is our column 'x'\n",
    "condlist = [x<3, x>5] # set of conditions, that need to be fullfilled --> which are the value-ranges, on which you will apply \n",
    "# a custom-function [which will be defined next]? --> all numbers below 3 AND all numbers above 5\n",
    "choicelist = [x, x**2] # the custom-function you will apply here: x^2\n",
    "\n",
    "# output:\n",
    "np.select(condlist, choicelist, default=np.nan) # apply x^2 on: x < 3 AND x > 5"
   ]
  },
  {
   "cell_type": "markdown",
   "metadata": {},
   "source": [
    "### <a id=\"trans-series-to-frame\" style=\"color:black; text-decoration: none;\"><u>Transform a Pandas Series into a DataFrame</u></a>:"
   ]
  },
  {
   "cell_type": "code",
   "execution_count": 6,
   "metadata": {},
   "outputs": [
    {
     "data": {
      "text/html": [
       "<div>\n",
       "<style scoped>\n",
       "    .dataframe tbody tr th:only-of-type {\n",
       "        vertical-align: middle;\n",
       "    }\n",
       "\n",
       "    .dataframe tbody tr th {\n",
       "        vertical-align: top;\n",
       "    }\n",
       "\n",
       "    .dataframe thead th {\n",
       "        text-align: right;\n",
       "    }\n",
       "</style>\n",
       "<table border=\"1\" class=\"dataframe\">\n",
       "  <thead>\n",
       "    <tr style=\"text-align: right;\">\n",
       "      <th></th>\n",
       "      <th>vals</th>\n",
       "    </tr>\n",
       "  </thead>\n",
       "  <tbody>\n",
       "    <tr>\n",
       "      <th>0</th>\n",
       "      <td>a</td>\n",
       "    </tr>\n",
       "    <tr>\n",
       "      <th>1</th>\n",
       "      <td>b</td>\n",
       "    </tr>\n",
       "    <tr>\n",
       "      <th>2</th>\n",
       "      <td>c</td>\n",
       "    </tr>\n",
       "  </tbody>\n",
       "</table>\n",
       "</div>"
      ],
      "text/plain": [
       "  vals\n",
       "0    a\n",
       "1    b\n",
       "2    c"
      ]
     },
     "execution_count": 6,
     "metadata": {},
     "output_type": "execute_result"
    }
   ],
   "source": [
    "import pandas as pd\n",
    "\n",
    "s = pd.Series([\"a\", \"b\", \"c\"],\n",
    "              name=\"vals\")\n",
    "s.to_frame()"
   ]
  },
  {
   "cell_type": "markdown",
   "metadata": {},
   "source": [
    "### <a id=\"unique-id\" style=\"color:black; text-decoration: none;\"><u>Assign a unique ID</u></a>:"
   ]
  },
  {
   "cell_type": "code",
   "execution_count": null,
   "metadata": {},
   "outputs": [],
   "source": [
    "df['id'] = df.groupby(['LastName','FirstName']).ngroup() # here, we use the column 'LastName' & 'FirstName' together, to create \n",
    "# a unique ID.\n",
    "\n",
    "# Quelle: https://stackoverflow.com/questions/45685254/q-pandas-how-to-efficiently-assign-unique-id-to-individuals-with-multiple-ent"
   ]
  },
  {
   "cell_type": "code",
   "execution_count": null,
   "metadata": {},
   "outputs": [],
   "source": [
    "df['id'] = df.groupby(['date']).ngroup() # if Course, you could also simply use 1 column fo the assignment of an unique ID. "
   ]
  },
  {
   "cell_type": "markdown",
   "metadata": {},
   "source": [
    "# <a id=\"sel-and-filt\" style=\"color:black; text-decoration: none;\">Selection &amp; Filtering Rows and Columns</a>\n",
    "---\n",
    "\n",
    "When you will work wit dataframes in `pandas`, one of the most important things you will need to master is how to select some columns, as well as print out `subsets` // particular columns from the dataframe.\n",
    "\n",
    "To get started and become acquainted with common techniques, I recommend you to watch this [beginner tutorial for filtering &amp; selecting columns](https://www.youtube.com/watch?v=htyWDxKVttE).\n",
    "\n",
    "**Load the next cell to be able to run the examples that follow**:"
   ]
  },
  {
   "cell_type": "code",
   "execution_count": 34,
   "metadata": {},
   "outputs": [
    {
     "data": {
      "text/html": [
       "<div>\n",
       "<style scoped>\n",
       "    .dataframe tbody tr th:only-of-type {\n",
       "        vertical-align: middle;\n",
       "    }\n",
       "\n",
       "    .dataframe tbody tr th {\n",
       "        vertical-align: top;\n",
       "    }\n",
       "\n",
       "    .dataframe thead th {\n",
       "        text-align: right;\n",
       "    }\n",
       "</style>\n",
       "<table border=\"1\" class=\"dataframe\">\n",
       "  <thead>\n",
       "    <tr style=\"text-align: right;\">\n",
       "      <th></th>\n",
       "      <th>order_id</th>\n",
       "      <th>order_date</th>\n",
       "      <th>customer_id</th>\n",
       "      <th>items_ordered</th>\n",
       "      <th>order_total</th>\n",
       "    </tr>\n",
       "  </thead>\n",
       "  <tbody>\n",
       "    <tr>\n",
       "      <th>0</th>\n",
       "      <td>1000</td>\n",
       "      <td>12/1/17</td>\n",
       "      <td>1</td>\n",
       "      <td>3</td>\n",
       "      <td>65.00</td>\n",
       "    </tr>\n",
       "    <tr>\n",
       "      <th>1</th>\n",
       "      <td>1001</td>\n",
       "      <td>12/1/17</td>\n",
       "      <td>3</td>\n",
       "      <td>2</td>\n",
       "      <td>25.75</td>\n",
       "    </tr>\n",
       "    <tr>\n",
       "      <th>2</th>\n",
       "      <td>1002</td>\n",
       "      <td>12/1/17</td>\n",
       "      <td>6</td>\n",
       "      <td>1</td>\n",
       "      <td>20.75</td>\n",
       "    </tr>\n",
       "    <tr>\n",
       "      <th>3</th>\n",
       "      <td>1003</td>\n",
       "      <td>12/1/17</td>\n",
       "      <td>8</td>\n",
       "      <td>6</td>\n",
       "      <td>86.00</td>\n",
       "    </tr>\n",
       "    <tr>\n",
       "      <th>4</th>\n",
       "      <td>1004</td>\n",
       "      <td>12/1/17</td>\n",
       "      <td>8</td>\n",
       "      <td>1</td>\n",
       "      <td>30.00</td>\n",
       "    </tr>\n",
       "  </tbody>\n",
       "</table>\n",
       "</div>"
      ],
      "text/plain": [
       "   order_id order_date  customer_id  items_ordered  order_total\n",
       "0      1000    12/1/17            1              3        65.00\n",
       "1      1001    12/1/17            3              2        25.75\n",
       "2      1002    12/1/17            6              1        20.75\n",
       "3      1003    12/1/17            8              6        86.00\n",
       "4      1004    12/1/17            8              1        30.00"
      ]
     },
     "execution_count": 34,
     "metadata": {},
     "output_type": "execute_result"
    }
   ],
   "source": [
    "import pandas as pd # load package needed\n",
    "\n",
    "file_path = './data/filter-and-selection/sample_orders.csv' # type in the path-location of your data\n",
    "dd = pd.read_csv(file_path) # load the data\n",
    "\n",
    "dd.head() # check if it worked? --> yes! --> should print the first 5 rows of your ddset"
   ]
  },
  {
   "cell_type": "code",
   "execution_count": 35,
   "metadata": {},
   "outputs": [
    {
     "name": "stdout",
     "output_type": "stream",
     "text": [
      "<class 'pandas.core.frame.DataFrame'>\n",
      "RangeIndex: 16 entries, 0 to 15\n",
      "Data columns (total 5 columns):\n",
      " #   Column         Non-Null Count  Dtype  \n",
      "---  ------         --------------  -----  \n",
      " 0   order_id       16 non-null     int64  \n",
      " 1   order_date     16 non-null     object \n",
      " 2   customer_id    16 non-null     int64  \n",
      " 3   items_ordered  16 non-null     int64  \n",
      " 4   order_total    16 non-null     float64\n",
      "dtypes: float64(1), int64(3), object(1)\n",
      "memory usage: 768.0+ bytes\n"
     ]
    }
   ],
   "source": [
    "dd.info() # check also all data-types"
   ]
  },
  {
   "cell_type": "markdown",
   "metadata": {},
   "source": [
    "### <a id=\"select-1-col-ddset\" style=\"color:black; text-decoration: none;\"><u>Select only 1 single column of your Dataframe</u></a>:\n",
    "\n",
    "In this example, I will select the column `order_id` from my ddset `dd`:"
   ]
  },
  {
   "cell_type": "code",
   "execution_count": 4,
   "metadata": {},
   "outputs": [
    {
     "name": "stdout",
     "output_type": "stream",
     "text": [
      "0     1000\n",
      "1     1001\n",
      "2     1002\n",
      "3     1003\n",
      "4     1004\n",
      "5     1005\n",
      "6     1006\n",
      "7     1007\n",
      "8     1008\n",
      "9     1009\n",
      "10    1010\n",
      "11    1011\n",
      "12    1012\n",
      "13    1013\n",
      "14    1014\n",
      "15    1015\n",
      "Name: order_id, dtype: int64\n"
     ]
    }
   ],
   "source": [
    "print(\n",
    "    dd['order_id'] # take the dataframe 'dd' and print me only the column called 'order_id' --> this is a subset\n",
    ")"
   ]
  },
  {
   "cell_type": "markdown",
   "metadata": {},
   "source": [
    "#### <a id=\"dot-not\" style=\"color:black; text-decoration: none;\"><u>Möglichkeit 2</u>: Selection of columns with `dot-notation`</a>\n",
    "\n",
    "*Nachteil* dieser Methode ist, dass sie <u>nicht</u> funktioniert, wenn es in den Columns `Leerschläge` gibt!"
   ]
  },
  {
   "cell_type": "code",
   "execution_count": 25,
   "metadata": {},
   "outputs": [
    {
     "name": "stdout",
     "output_type": "stream",
     "text": [
      "0     1000\n",
      "1     1001\n",
      "2     1002\n",
      "3     1003\n",
      "4     1004\n",
      "5     1005\n",
      "6     1006\n",
      "7     1007\n",
      "8     1008\n",
      "9     1009\n",
      "10    1010\n",
      "11    1011\n",
      "12    1012\n",
      "13    1013\n",
      "14    1014\n",
      "15    1015\n",
      "Name: order_id, dtype: int64\n"
     ]
    }
   ],
   "source": [
    "test = dd.order_id # ACHTUNG: funktioniert nicht, wenn es Leerschläge gibt!!\n",
    "print(test)"
   ]
  },
  {
   "cell_type": "markdown",
   "metadata": {},
   "source": [
    "### <a id=\"select-multi-col-ddset\" style=\"color:black; text-decoration: none;\"><u>Select *multiple* Columns from your Dataframe</u></a>:\n",
    "\n",
    "Similarly to `R`, we need to pass a \"set\" into the selector of columns."
   ]
  },
  {
   "cell_type": "code",
   "execution_count": 5,
   "metadata": {},
   "outputs": [
    {
     "name": "stdout",
     "output_type": "stream",
     "text": [
      "    order_id  order_total\n",
      "0       1000        65.00\n",
      "1       1001        25.75\n",
      "2       1002        20.75\n",
      "3       1003        86.00\n",
      "4       1004        30.00\n",
      "5       1005        20.00\n",
      "6       1006        21.00\n",
      "7       1007        26.25\n",
      "8       1008        20.75\n",
      "9       1009        15.75\n",
      "10      1010        45.00\n",
      "11      1011        30.00\n",
      "12      1012        15.00\n",
      "13      1013        85.00\n",
      "14      1014        25.00\n",
      "15      1015        15.00\n"
     ]
    }
   ],
   "source": [
    "print(\n",
    "    dd[['order_id', 'order_total']] # take the dataframe 'dd' and print me only the columns called 'order_id' && 'order_total'\n",
    ")"
   ]
  },
  {
   "cell_type": "markdown",
   "metadata": {},
   "source": [
    "### <a id=\"filter-1-row-ddset\" style=\"color:black; text-decoration: none;\"><u>Select AND filter for a particular row, with *one condition*</u></a>: \n",
    "\n",
    "Let's say, we want to select the row // observation with the `\"order_id\" == 1004`."
   ]
  },
  {
   "cell_type": "code",
   "execution_count": 8,
   "metadata": {},
   "outputs": [
    {
     "name": "stdout",
     "output_type": "stream",
     "text": [
      "   order_id order_date  customer_id  items_ordered  order_total\n",
      "4      1004    12/1/17            8              1         30.0\n",
      "   order_id order_date  customer_id  items_ordered  order_total\n",
      "4      1004    12/1/17            8              1         30.0\n"
     ]
    }
   ],
   "source": [
    "print(\n",
    "    dd[\n",
    "        dd['order_id'] == 1004 # note that this INNER bracket will run a function that searches through and would only print \n",
    "                               # a Boolean-List of \"True\" or \"False\" for all rows  --> example-video: ab 2:36-3:34 --> https://www.youtube.com/watch?v=htyWDxKVttE\n",
    "    ]                          # This outer selector will tell Python: \"Select\" only the row where the column 'order_id' == 1004\n",
    ")\n",
    "\n",
    "# short-version:\n",
    "\n",
    "print(dd[dd['order_id'] == 1004])"
   ]
  },
  {
   "cell_type": "markdown",
   "metadata": {},
   "source": [
    "- Quelle: [Basics of selecting and filtering rows and columns in Python, ab 2:36-3:34](https://www.youtube.com/watch?v=htyWDxKVttE&t=2m36s)"
   ]
  },
  {
   "cell_type": "markdown",
   "metadata": {},
   "source": [
    "### <a id=\"filter-multi-cond-ddset\" style=\"color:black; text-decoration: none;\"><u>Select AND filter for rows with *more than one condition*</u></a>:\n",
    "\n",
    "Now, we want to select the row<u>s</u> // observations, where `\"order_total\" >= 50.00` <u>AND</u> `\"order_date\" == 12/1/17` are fulfilled // filtered. Basically, it is the same as with the selection &amp; filtering with *one condition*, you **just need to wrap up the INNER brackets with an additional `(...)` brackets (for <u>each</u> condition!)**. "
   ]
  },
  {
   "cell_type": "code",
   "execution_count": 11,
   "metadata": {
    "scrolled": true
   },
   "outputs": [
    {
     "name": "stdout",
     "output_type": "stream",
     "text": [
      "   order_id order_date  customer_id  items_ordered  order_total\n",
      "0      1000    12/1/17            1              3         65.0\n",
      "3      1003    12/1/17            8              6         86.0\n"
     ]
    }
   ],
   "source": [
    "print(\n",
    "    dd[\n",
    "        (dd['order_total'] >= 50) & (dd['order_date'] == '12/1/17') # in contrast to **one condition**, we just wrap up a (...) for each condition\n",
    "    ]                          # This outer selector will tell Python: \"Select\" only the row where the column 'order_id' == 1004\n",
    ")\n"
   ]
  },
  {
   "cell_type": "markdown",
   "metadata": {},
   "source": [
    "<u>**Alternative mit \"OR\"**</u>: Statt *AND* kann man auch - zum Beispiel - die *OR*-Condition verwenden"
   ]
  },
  {
   "cell_type": "code",
   "execution_count": 21,
   "metadata": {
    "scrolled": true
   },
   "outputs": [
    {
     "name": "stdout",
     "output_type": "stream",
     "text": [
      "    order_id order_date  customer_id  items_ordered  order_total\n",
      "0       1000    12/1/17            1              3        65.00\n",
      "1       1001    12/1/17            3              2        25.75\n",
      "2       1002    12/1/17            6              1        20.75\n",
      "3       1003    12/1/17            8              6        86.00\n",
      "4       1004    12/1/17            8              1        30.00\n",
      "13      1013    12/3/17            7              5        85.00\n"
     ]
    }
   ],
   "source": [
    "print(dd[(dd['order_total'] >= 50) | (dd['order_date'] == '12/1/17')])"
   ]
  },
  {
   "cell_type": "markdown",
   "metadata": {},
   "source": [
    "### <a id=\"select-only-missings\" style=\"color:black; text-decoration: none;\">Select only rows with Missing-Values</a>"
   ]
  },
  {
   "cell_type": "code",
   "execution_count": null,
   "metadata": {},
   "outputs": [],
   "source": [
    "null_data = df[df.isnull().any(axis = 1)] # this will only select the rows that contain at least one missing-value\n",
    "null_data # check, if it worked?"
   ]
  },
  {
   "cell_type": "markdown",
   "metadata": {},
   "source": [
    "#  <a id=\"sel-loc-iloc\" style=\"color:black; text-decoration: none;\">Selection with \"accessor operators\" `iloc` &amp; `loc`</a>\n",
    "---\n",
    "\n",
    "Das Package `Pandas` erlaubt die Verwendung von sogenannten `accessor operators`, um Dataframes einfacher zu filtrieren. Dabei unterscheidet man zwischen: \n",
    "\n",
    "- `iloc` (= based on the <u>**Postition**</u> (= Nummer) des Index innerhalb der Spalten & Reihen im ddset),\n",
    "    - <u>Beachte</u>: Reihenfolge der inputs within `iloc` == 1) 'rows', then 2) 'columns'\n",
    "- `loc` (= based on the <u>**Index-Namen**</u> of the Spalten & Zeilen im ddset).\n",
    "    - <u>Beachte</u>: Reihenfolge der inputs within `loc` == 1) 'rows', then 2) 'columns'"
   ]
  },
  {
   "cell_type": "markdown",
   "metadata": {},
   "source": [
    "### <a id=\"example-iloc-sel\" style=\"color:black; text-decoration: none;\"><u>Selection of the `entry` situated in the 1st row and 5th column only with `iloc`</u></a>\n",
    "\n",
    "To be able to use `iloc`, the **key** is to know *the position* of the row- & column-labels (= index of columns & rows).\n",
    "\n",
    "- <u>Note</u>: `iloc` &amp; `loc` are often used to print a particular *entry* WITHIN a dataframe. However, `loc` and `iloc` also are able to print <u>entire</u> rows // observations and not just one specific value within a row, as we will see."
   ]
  },
  {
   "cell_type": "code",
   "execution_count": 38,
   "metadata": {},
   "outputs": [
    {
     "name": "stdout",
     "output_type": "stream",
     "text": [
      "65.0\n"
     ]
    }
   ],
   "source": [
    "test = dd.iloc[0,4] # Reihenfolge der inputs == 1) 'rows' (--> \"0\" == 1st row), then 2) 'columns' (--> \"4\" == 5th column)\n",
    "print(test) # check if it worked? --> should print the value '65'"
   ]
  },
  {
   "cell_type": "markdown",
   "metadata": {},
   "source": [
    "### <a id=\"example-loc-sel\" style=\"color:black; text-decoration: none;\"><u>Selection of the `entry` situated in the 1st row and 5th column only with `loc`</u></a>\n",
    "\n",
    "The **key** to use `loc` is that you know *the names* of the columns & rows. \n",
    "\n",
    "- <u>Wichtige Bemerkung</u>: Der **Default-<u>Name</u>** (= Standard-Name) der `rows` innerhalb eines Dataframes ist einfach die Zahlenabfolge von `0,1,2...,10,11,12,...`. Lustigerweise ist der **row-label // <u>index</u> von rows** auch standardmässig die Zahlenabfolge `0,1,2,...,10,11,12,...`. Deshalb kommt es sehr oft vor, dass `loc` und `iloc` ***denselben*** ersten Input haben! xD"
   ]
  },
  {
   "cell_type": "code",
   "execution_count": 39,
   "metadata": {},
   "outputs": [
    {
     "name": "stdout",
     "output_type": "stream",
     "text": [
      "65.0\n"
     ]
    }
   ],
   "source": [
    "test = dd.loc[0,'order_total'] # Reihenfolge der inputs == 1) 'rows' (--> \"0\" == NAME der 1st row), then 2) 'columns' (--> \"order_total\" == NAME der gewünschten 5th column)\n",
    "print(test) # check if it worked? --> should print the value '65'"
   ]
  },
  {
   "cell_type": "markdown",
   "metadata": {},
   "source": [
    "### <a id=\"example-sel-with-threshold-loc\" style=\"color:black; text-decoration: none;\"><u>Apply a Threshold-Filter using `loc` on each row</u></a>:\n",
    "\n",
    "This can be useful, when you want to replace some values in certain columns &#8594; see 'Outliers'-chapter"
   ]
  },
  {
   "cell_type": "code",
   "execution_count": null,
   "metadata": {},
   "outputs": [],
   "source": [
    "# Only display all rows, where the 'pressure'-column is > than the threshold of 1051 bar\n",
    "\n",
    "df_weather.loc[df_weather.pressure > 1051, 'pressure']"
   ]
  },
  {
   "cell_type": "markdown",
   "metadata": {},
   "source": [
    "### <a id=\"example-sel-entire-row-with-iloc\" style=\"color:black; text-decoration: none;\"><u>Selection of an ENTIRE row // record // observation from a ddset with `iloc`</u></a>:"
   ]
  },
  {
   "cell_type": "code",
   "execution_count": 47,
   "metadata": {},
   "outputs": [
    {
     "name": "stdout",
     "output_type": "stream",
     "text": [
      "order_id            1000\n",
      "order_date       12/1/17\n",
      "customer_id            1\n",
      "items_ordered          3\n",
      "order_total           65\n",
      "Name: 0, dtype: object\n",
      "   order_id order_date  customer_id  items_ordered  order_total\n",
      "0      1000    12/1/17            1              3        65.00\n",
      "1      1001    12/1/17            3              2        25.75\n",
      "2      1002    12/1/17            6              1        20.75\n",
      "3      1003    12/1/17            8              6        86.00\n",
      "5      1005    12/2/17            1              1        20.00\n",
      "8      1008    12/2/17            9              1        20.75\n"
     ]
    }
   ],
   "source": [
    "#####\n",
    "## Möglichkeit 1: selection of only 1 row\n",
    "\n",
    "test_row1 = dd.iloc[0,] # Important: 1) rows, then 2) columns --> we want the entire 1st row, which includes ALL columns\n",
    "                        # Note: das Komma NACH dem \"0\" zeigt an, dass wir ALLE columns selektieren wollen!\n",
    "\n",
    "#####\n",
    "## Möglichkeit 2: selection of > 1 row --> notice the additional wrap with [...] WITHIN iloc[]!\n",
    "\n",
    "test_multiRow = dd.iloc[[0,1,2,3,5,8],] # '[0,1,2,3,5,8]' will select the '1st, 2nd, 3rd, 4th, 6th and 9th' row\n",
    "                                            # while also selecting ALL columns simultaneously\n",
    "\n",
    "#####   \n",
    "## check if it worked? --> yes!\n",
    "print(test_row1) # should print only 1 row BUT with ALL the column --> weird output, because the columns sind abgebildet als rows xD\n",
    "print(test_multiRow)"
   ]
  },
  {
   "cell_type": "markdown",
   "metadata": {},
   "source": [
    "### <a id=\"example-sel-entire-row-with-loc\" style=\"color:black; text-decoration: none;\"><u>Selection of an ENTIRE row // record // observation from a ddset with `loc`</u></a>:\n",
    "\n",
    "<u>**Tipp**</u>: Von der Eleganz &amp; Effizienz her, empfehle ich dir undbedingt **Möglichkeit 3** im unteren Code-Beispiel!!"
   ]
  },
  {
   "cell_type": "code",
   "execution_count": 49,
   "metadata": {},
   "outputs": [
    {
     "name": "stdout",
     "output_type": "stream",
     "text": [
      "order_id            1000\n",
      "order_date       12/1/17\n",
      "customer_id            1\n",
      "items_ordered          3\n",
      "order_total           65\n",
      "Name: 0, dtype: object\n",
      "   order_id order_date  customer_id  items_ordered  order_total\n",
      "0      1000    12/1/17            1              3        65.00\n",
      "1      1001    12/1/17            3              2        25.75\n",
      "2      1002    12/1/17            6              1        20.75\n",
      "3      1003    12/1/17            8              6        86.00\n",
      "5      1005    12/2/17            1              1        20.00\n",
      "8      1008    12/2/17            9              1        20.75\n",
      "    order_id order_date  order_total\n",
      "0       1000    12/1/17        65.00\n",
      "1       1001    12/1/17        25.75\n",
      "2       1002    12/1/17        20.75\n",
      "3       1003    12/1/17        86.00\n",
      "4       1004    12/1/17        30.00\n",
      "5       1005    12/2/17        20.00\n",
      "6       1006    12/2/17        21.00\n",
      "7       1007    12/2/17        26.25\n",
      "8       1008    12/2/17        20.75\n",
      "9       1009    12/3/17        15.75\n",
      "10      1010    12/3/17        45.00\n",
      "11      1011    12/3/17        30.00\n",
      "12      1012    12/3/17        15.00\n",
      "13      1013    12/3/17        85.00\n",
      "14      1014    12/3/17        25.00\n",
      "15      1015    12/3/17        15.00\n"
     ]
    }
   ],
   "source": [
    "#####\n",
    "## Möglichkeit 1: selection of only 1 row\n",
    "\n",
    "test_row1 = dd.loc[0,] # das Komma NACH dem \"0\" zeigt an, dass wir ALLE columns selektieren wollen!\n",
    "\n",
    "#####\n",
    "## Möglichkeit 2: selection of > 1 row --> notice the additional wrap [...] WITHIN loc[]!\n",
    "\n",
    "test_multiRow = dd.loc[[0,1,2,3,5,8],] # Weil - per default - die 'row-labels' (= name des Indexes \n",
    "                                            # der Zeilen) dieselben sind, wie die Position, ist der Code \n",
    "                                            # für 'loc' derselbe, wie für 'iloc' hier...\n",
    "        \n",
    "#####\n",
    "## Möglichkeit 3: Beste & schönste Solution (meiner Meinung nach!)\n",
    "rows = list(range(0,16)) # will create a list that goes from 0 to 99 --> this will be for the row-labels\n",
    "columns = ['order_id', 'order_date', 'order_total'] # this will be for the column-labels\n",
    "                                                    # Pro-Tipp: columns = list(data.columns)\n",
    "df = dd.loc[rows, columns]\n",
    "        \n",
    "        \n",
    "#####   \n",
    "## check if it worked? --> yes!\n",
    "print(test_row1) # should print only 1 row BUT with ALL the column --> weird output, because the columns sind abgebildet als rows xD\n",
    "print(test_multiRow)\n",
    "print(df)"
   ]
  },
  {
   "cell_type": "markdown",
   "metadata": {},
   "source": [
    "### <a id=\"replace-values-within-rows\" style=\"color:black; text-decoration: none;\"><u>Replace values within a Column with some new Values</u></a>:"
   ]
  },
  {
   "cell_type": "code",
   "execution_count": null,
   "metadata": {},
   "outputs": [],
   "source": [
    "df.loc[df.ungewichtet > 1, 'ungewichtet'] = 1 # hier werde ich alle Werte der Spalte \"ungewichtet\" > 1 mit dem Wert \"1\" ersetzen!"
   ]
  },
  {
   "cell_type": "markdown",
   "metadata": {},
   "source": [
    "### <a id=\"different-slicing-loc-and-iloc\" style=\"color:black; text-decoration: none;\"><u>Different Slicing when using `iloc` VS. `loc`</u></a>: \n",
    "\n",
    "When using `iloc`, **the range 0:5** will select entries `0,...,4` that is: it indexes EXCLUSIVELY. On the other hand, `loc`, meanwhile, indexes *INCLUSIVELY*. So **the <u>same</u> range 0:5** will select entries `0,...,5`!!!\n",
    "\n",
    "*Hence, if you want the SAME output with `loc` and `iloc`, you simply need to slightly change the `range()`-function.*\n",
    "\n",
    "<u>Example</u>:"
   ]
  },
  {
   "cell_type": "code",
   "execution_count": 40,
   "metadata": {
    "scrolled": true
   },
   "outputs": [
    {
     "name": "stdout",
     "output_type": "stream",
     "text": [
      "0    1000\n",
      "1    1001\n",
      "2    1002\n",
      "3    1003\n",
      "4    1004\n",
      "Name: order_id, dtype: int64\n",
      "0    1000\n",
      "1    1001\n",
      "2    1002\n",
      "3    1003\n",
      "4    1004\n",
      "Name: order_id, dtype: int64\n"
     ]
    }
   ],
   "source": [
    "## Möglichkeit 1: with 'iloc'\n",
    "iloc_test = dd.iloc[0:5,0] # row-position == 0:5 --> first 5 rows; EXCLUDES '5' from the range \"0,1,2,3,4,5\" \n",
    "                                          # --> hence range(0:5) results in --> \"0,1,2,3,4\"\n",
    "                                          # column-position == 0 --> 1st row --> remember: indexing in \n",
    "                                          # Python starts at '0'!\n",
    "\n",
    "    # IMPORTANT: 'iloc' uses the 'Python stdlib' indexing scheme, where the first element of the range is \n",
    "    # included and the last one excluded. So 0:5 will select entries 0,...,4 (= these are the first *5* \n",
    "    # entries!!).\n",
    "\n",
    "## Möglichkeit 2: to get the SAME output with 'loc', we need a slightly DIFFERENT range!\n",
    "loc_test = dd.loc[0:4,'order_id'] # row-position == 0:4 --> first 5 rows; INCLUDES '4' \n",
    "                                  # --> hence range(0:4) results in --> \"0,1,2,3,4\"\n",
    "\n",
    "## check if the output are the same, even though \"range()\" has slightly different inputs? --> yes!\n",
    "print(iloc_test)\n",
    "print(loc_test)"
   ]
  },
  {
   "cell_type": "markdown",
   "metadata": {},
   "source": [
    "# <a id=\"sort-and-filt\" style=\"color:black; text-decoration: none;\">Sorting &amp; Filtering</a>\n",
    "---\n",
    "\n",
    "### <u><a id=\"sort-pearson-corr-from-most-imp-to-least-imp\" style=\"color:black; text-decoration: none;\">How to sort a Data-Frame Column (hier: Pearson-Correlation Matrix) from '_most important_' to '_least important_'?</a></u>:"
   ]
  },
  {
   "cell_type": "code",
   "execution_count": null,
   "metadata": {},
   "outputs": [],
   "source": [
    "### Find the correlations' ranking for the day-ahead electricity price and the rest of the features:\n",
    "\n",
    "# Step 1: Create a Pearson-Korrelation Matrix out of your dataframe:\n",
    "correlations = df.corr(method='pearson') # the variable 'correlations' is a dataframe!\n",
    "\n",
    "# Step 2: use 'sort_values' to sort the column from \"most important\" (highest value) to \"least important\":\n",
    "print(correlations['pricesCH'].sort_values(ascending=False).to_string())"
   ]
  },
  {
   "cell_type": "markdown",
   "metadata": {},
   "source": [
    "### <a id=\"example-of-sort-corr\" style=\"color:black; text-decoration: none;\"><u>Filter the WHOLE Dataframe after a condition (hier: Correlations > 0.75), select ONLY all observations that fullfill the condition (= 'stack them') and sort them  left in your Data Frame</u></a>:\n",
    "\n",
    "- Dieser Code beruht auf den Abschnitt: [_How to sort a Data-Frame Column (hier: Pearson-Correlation Matrix) from 'most imporant' to 'least important'_](#pearson)."
   ]
  },
  {
   "cell_type": "code",
   "execution_count": null,
   "metadata": {},
   "outputs": [],
   "source": [
    "highly_correlated = correlations[correlations > 0.75]\n",
    "print(highly_correlated[highly_correlated < 1.0].stack().to_string())"
   ]
  },
  {
   "cell_type": "markdown",
   "metadata": {},
   "source": [
    "# <a id=\"dealing-with-missings\" style=\"color:black; text-decoration: none;\">Data-Cleaning: Missings</a>\n",
    "---"
   ]
  },
  {
   "cell_type": "markdown",
   "metadata": {},
   "source": [
    "### <a id=\"count-total-missings-ddset\" style=\"color:black; text-decoration: none;\"><u>Number of Missing Values across the WHOLE Data-Frame</u></a>:"
   ]
  },
  {
   "cell_type": "code",
   "execution_count": null,
   "metadata": {},
   "outputs": [],
   "source": [
    "print('There are {} missing values or NaNs in df_energy.'\n",
    "      .format(df_energy.isnull().values.sum()))"
   ]
  },
  {
   "cell_type": "markdown",
   "metadata": {},
   "source": [
    "### <a id=\"count-missings-per-columns\" style=\"color:black; text-decoration: none;\"><u>Count the TOTAL number of Missings in each column</u></a>:"
   ]
  },
  {
   "cell_type": "code",
   "execution_count": null,
   "metadata": {},
   "outputs": [],
   "source": [
    "df_energy.isnull().sum(axis=0) # outputs the number of NaNs for each column"
   ]
  },
  {
   "cell_type": "markdown",
   "metadata": {},
   "source": [
    "### <a id=\"count-non-missings-only-if-no-0\" style=\"color:black; text-decoration: none;\"><u>Count the non-missings (and non-zero values) in each column</u></a>:\n",
    "\n",
    "**<u>Achtung</u>**: the \"Code-Trick\" below only works, if your columns don't contain values, that are '0'! This is because the number '0' - as a `boolean` - will be printed out to `False`, and hence, we will get the \"wrong\" number of missing values. \n",
    "\n",
    "*Verwende den unteren Code also nur, wenn du zuerst abgecheckt hast, dass du keine `0` in den einzlenen Spalten hast!*"
   ]
  },
  {
   "cell_type": "code",
   "execution_count": null,
   "metadata": {},
   "outputs": [],
   "source": [
    "# Display the number of non-missing values in each column\n",
    "\n",
    "print('Non-zero values in each column:\\n', df_energy.astype(bool).sum(axis=0), sep='\\n')"
   ]
  },
  {
   "cell_type": "markdown",
   "metadata": {},
   "source": [
    "Since the above cell only gives out the \"correct\" number of non-missing values, if you have no `0` in your columns, here is code to count how many `0` you have in each column:"
   ]
  },
  {
   "cell_type": "code",
   "execution_count": null,
   "metadata": {},
   "outputs": [],
   "source": [
    "(df_energy == 0).astype(int).sum(axis=0) # count the numbers of '0s' in each column [axis = 0, for columns...]"
   ]
  },
  {
   "cell_type": "markdown",
   "metadata": {},
   "source": [
    "### <a id=\"show-only-rows-with-missings\" style=\"color:black; text-decoration: none;\"><u>Display each row with a Missing-Value</u></a>:"
   ]
  },
  {
   "cell_type": "code",
   "execution_count": null,
   "metadata": {},
   "outputs": [],
   "source": [
    "# Display the rows with null // missing values:\n",
    "\n",
    "df_energy[df_energy.isnull().any(axis=1)].tail()"
   ]
  },
  {
   "cell_type": "markdown",
   "metadata": {},
   "source": [
    "### <a id=\"replace-missings-with-0\" style=\"color:black; text-decoration: none;\"><u>Replace all Missings in a Column with 0s</u></a>:\n"
   ]
  },
  {
   "cell_type": "code",
   "execution_count": null,
   "metadata": {},
   "outputs": [],
   "source": [
    "df['ColumnWithMissings'] = df_tot['ColumnWithMissings'].fillna(0) # replaces all missing-values within the column with 0s. "
   ]
  },
  {
   "cell_type": "markdown",
   "metadata": {},
   "source": [
    "### <u>Replace all Values in a Column with `Missings`</u>:\n",
    "    \n",
    "*Assume that we have a time-series that has a row-index with time-stamps*!"
   ]
  },
  {
   "cell_type": "code",
   "execution_count": null,
   "metadata": {},
   "outputs": [],
   "source": [
    "### Step 1: define the range in which you want to replace values\n",
    "start = '2020-01-01' # 01. Januar 2020 --> ab hier wollen wir die values der Time-Series mit Missings ersetzen\n",
    "stop = '2020-08-01' # 01. August 2020 --> bis zu diesem Datum sollen die Missings eingefügt werden\n",
    "\n",
    "### Step 2: replace the values with missings via the \".loc[row-indexer, column-indexer]\"\n",
    "df.loc[start:stop, 'y_hat'] = None # This will replace all the values within the 'y_hat'-column - in the range from \n",
    "                                   # 01.01.2020-01.08.2020 with Missing-values (instead of \"normal\"-values)"
   ]
  },
  {
   "cell_type": "markdown",
   "metadata": {},
   "source": [
    "## <a id=\"missing-imputations\" style=\"color:black; text-decoration: none;\">Missing Imputation</a>\n",
    "---\n",
    "\n",
    "This list will grow with time, the more I stumble onto various codes:"
   ]
  },
  {
   "cell_type": "markdown",
   "metadata": {},
   "source": [
    "### <u>Missing Interpolation</u>:"
   ]
  },
  {
   "cell_type": "markdown",
   "metadata": {},
   "source": [
    "#### <a id=\"interpolation-for-time-series\" style=\"color:black; text-decoration: none;\"><u>For a Time Series</u></a>:"
   ]
  },
  {
   "cell_type": "code",
   "execution_count": null,
   "metadata": {},
   "outputs": [],
   "source": [
    "# Fill null values using interpolation:\n",
    "\n",
    "df_energy.interpolate(method='linear', limit_direction='forward', inplace=True, axis=0) # since we have "
   ]
  },
  {
   "cell_type": "markdown",
   "metadata": {},
   "source": [
    "# <a id=\"data-duplicates\" style=\"color:black; text-decoration: none;\">Data-Cleaning: Duplicates</a>\n",
    "---\n"
   ]
  },
  {
   "cell_type": "markdown",
   "metadata": {},
   "source": [
    "### <a id=\"count-all-duplicates\" style=\"color:black; text-decoration: none;\"><u>Number of Duplicates across the WHOLE Data-Frame</u></a>:"
   ]
  },
  {
   "cell_type": "code",
   "execution_count": null,
   "metadata": {},
   "outputs": [],
   "source": [
    "temp_energy = df_energy.duplicated(keep='first').sum()\n",
    "\n",
    "print('There are {} duplicate rows in df_energy based on all columns.'\n",
    "      .format(temp_energy))"
   ]
  },
  {
   "cell_type": "markdown",
   "metadata": {},
   "source": [
    "### <a id=\"drop-duplicates\" style=\"color:black; text-decoration: none;\"><u>Drop Duplicate values</u></a>:"
   ]
  },
  {
   "cell_type": "code",
   "execution_count": null,
   "metadata": {},
   "outputs": [],
   "source": [
    "# Variante 1: mit reset_index & neuer set_index\n",
    "df_weather_2 = df_weather.reset_index().drop_duplicates(subset=['time', 'city_name'], # Drop the duplicate, if all the rows are the same // have the same values (Achtung: we only look at the duplicates in the 'time' & 'city_name'-column from this analysis!).\n",
    "                                                        keep='last').set_index('time') # if you have duplicate, keep only the last of the duplicated-rows."
   ]
  },
  {
   "cell_type": "code",
   "execution_count": null,
   "metadata": {},
   "outputs": [],
   "source": [
    "# Variante 2: man dropt den \"alten\" Index (VOR merge) und neuem set_index \n",
    "df_unique_dates = df_ferien.drop_duplicates(subset='datum', # only consider the column \"datum\" [= column that has duplicates] when dropping the duplicates \n",
    "                                    keep='first').reset_index(drop=True) # reset the index, otherwise you get weird indizes (mit 10'000 für manche)\n",
    "                                                                         # 'drop = True' means that we do not keep the \"old\" index as a separate 'column'\n",
    "df_unique_dates"
   ]
  },
  {
   "cell_type": "markdown",
   "metadata": {},
   "source": [
    "# <a id=\"outliers\" style=\"color:black; text-decoration: none;\">Data-Cleaning: Outliers</a>\n",
    "---"
   ]
  },
  {
   "cell_type": "markdown",
   "metadata": {},
   "source": [
    "### <a id=\"draw-boxplot\" style=\"color:black; text-decoration: none;\"><u>Draw a Boxplot for a specific column</u></a>:"
   ]
  },
  {
   "cell_type": "code",
   "execution_count": null,
   "metadata": {},
   "outputs": [],
   "source": [
    "import seaborn as sns\n",
    "\n",
    "sns.boxplot(x=df_weather['pressure'])\n",
    "plt.show()"
   ]
  },
  {
   "cell_type": "markdown",
   "metadata": {},
   "source": [
    "<ul>\n",
    "    <li><strong><u>Key-Question</u></strong>: <h1><em><center>Are there Outliers? &#8594; Yes / No</center></em></h1></li><br>\n",
    "    <ul>\n",
    "        <li><strong><u>\"Trick\" to answer the question</u></strong>: If you deal with temperature for example, google for \"highest Temperature on earth\" and look it up in Wikipedia to dertermine whether your value is an outlier.</li>\n",
    "    </ul>\n",
    "</ul>"
   ]
  },
  {
   "cell_type": "markdown",
   "metadata": {},
   "source": [
    "- <u>Example</u>: ![Outlier Examples](bilder/outlier-example.jpg) Even a pressure of approximately 100,000 HPa or 10 MPa, which is clearly visible in the above figure, corresponds to a quantity greater than the atmospheric pressure of Venus. In order to be sure, we will set as `NaN`s every value in the `pressure`-column which is **higher than 1051 hPa**, which is just above the highest air pressure ever recorded in the Iberian peninsula. While outliers on the low side are not visible in the boxplot above, it is a good idea to also replace the values which are **lower than 931 hPa**, i.e. the lowest air pressure ever recorded in the Iberian peninsula."
   ]
  },
  {
   "cell_type": "markdown",
   "metadata": {},
   "source": [
    "**<u>Step 2</u>**:<br>\n",
    "<h3><em>If the answer to the above question is 'yes', then set the value above values to <code>NaN</code>s, which are above a certain \"unprobable\" threshold.</em></h3>"
   ]
  },
  {
   "cell_type": "code",
   "execution_count": null,
   "metadata": {},
   "outputs": [],
   "source": [
    "# Replace outliers in the `Set_Name_of_Column_with_the_Outlier_hier`-column with `NaN`s\n",
    "\n",
    "df_weather.loc[df_weather.pressure > 1051, 'pressure'] = np.nan\n",
    "df_weather.loc[df_weather.pressure < 931, 'pressure'] = np.nan"
   ]
  },
  {
   "cell_type": "markdown",
   "metadata": {},
   "source": [
    "# <a id=\"merging-and-splitting\" style=\"color:black; text-decoration: none;\">Merging &amp; Splitting</a>\n",
    "---\n",
    "\n",
    "- <u>**Important note before you start**</u>: If you want to merge 2 dataframes, where _one is smaller than the other_, then you <mark>CANNOT make the bigger dataset become _smaller_ with `merge()`</mark>. I did spend alot of time, but without success. However, there is **another solution**: you just need to drop the duplicates of the bigger dataframe ([see chapter `Duplicates`](#duplicates-chapter) in order to be able to make the dataset smaller! =)"
   ]
  },
  {
   "cell_type": "markdown",
   "metadata": {},
   "source": [
    "### <a id=\"split-big-ddset-by-categories\" style=\"color:black; text-decoration: none;\"><u>Splitting a Dataset into smaller parts, by using categories to split it up</u></a>:"
   ]
  },
  {
   "cell_type": "code",
   "execution_count": null,
   "metadata": {},
   "outputs": [],
   "source": [
    "# Split the df_weather into 5 dataframes (one for each of the 5 cities):\n",
    "\n",
    "df_1, df_2, df_3, df_4, df_5 = [x for _, x in df_weather.groupby('city_name')]\n",
    "dfs = [df_1, df_2, df_3, df_4, df_5]"
   ]
  },
  {
   "cell_type": "code",
   "execution_count": 8,
   "metadata": {
    "scrolled": true
   },
   "outputs": [
    {
     "data": {
      "text/plain": [
       "'[Mercury, Venus, Earth, Mars, Jupiter, Saturn, Uranus, Neptune]'"
      ]
     },
     "execution_count": 8,
     "metadata": {},
     "output_type": "execute_result"
    }
   ],
   "source": [
    "str(planets).replace(\"'\", \"\")"
   ]
  },
  {
   "cell_type": "markdown",
   "metadata": {},
   "source": [
    "### <a id=\"merging-by-idx\" style=\"color:black; text-decoration: none;\"><u>Merge 2 separate Data Sets together via their row-index (= row-label)</u></a>:\n",
    "\n",
    "Damit du dieses Merging erfolgreich durchführen kannst, müssen beide Datensätze denselben Zeilen-Index besitzen. \n",
    "\n",
    "- **<u>Ziel</u>**: *Dadurch kannst du zum Beispiel **neue Spalten von einem <u>anderen</u> Datensatz hinzufügen** (passiert sehr oft in der Praxis)*."
   ]
  },
  {
   "cell_type": "code",
   "execution_count": null,
   "metadata": {},
   "outputs": [],
   "source": [
    "# Let's merge all the y- & X-Variables from the training-set together:\n",
    "test = pd.merge(\n",
    "    y_train, # der Trainingsdatensatz für die y-Variable\n",
    "    x_train, # der Trainingsdatensatz für alle X-Variablen\n",
    "    how=\"outer\",\n",
    "    left_on=y_train.index, # merging via index // row-label des DataFrames der y-Variable\n",
    "    right_on=x_train.index, # merging via index // row-label des DataFrames der x-Variablen\n",
    ").set_index('key_0') # optional: da wir hier eine Zeitreihe haben, dessen Row-Index den Column-Name 'key_0' animmt beim Merging, wird hier als neuer Row-Index für den gemerged Dataframe gesetzt\n",
    "test # check if it worked"
   ]
  },
  {
   "cell_type": "markdown",
   "metadata": {},
   "source": [
    "### <a id=\"merge-multiple-ddset\" style=\"color:black; text-decoration: none;\"><u>Merge different datasets simultaneously together</u></a>:\n",
    "\n",
    "**<u>Ausgangssituation</u>**: Assume that - initially - we have 2 datasets, 1 is for the weather and 1 is for the Energy-Prices. Furthermore, they those two datasets are **time-series**. Hence, they have the same time-index (= row-label), formatted in **UTC**.\n",
    "\n",
    "**<u>Step 1</u>**: Split up the weather-dataset, sorted by cities"
   ]
  },
  {
   "cell_type": "code",
   "execution_count": null,
   "metadata": {},
   "outputs": [],
   "source": [
    "# Split the df_weather into 5 dataframes (one for each of the 5 cities):\n",
    "\n",
    "df_1, df_2, df_3, df_4, df_5 = [x for _, x in df_weather.groupby('city_name')]\n",
    "dfs = [df_1, df_2, df_3, df_4, df_5]"
   ]
  },
  {
   "cell_type": "markdown",
   "metadata": {},
   "source": [
    "**<u>Step 2</u>**: Merge the 5 sub-datasets with the Energy-Price Dataset"
   ]
  },
  {
   "cell_type": "code",
   "execution_count": null,
   "metadata": {},
   "outputs": [],
   "source": [
    "# Step 1: save a copy, in case you do a wrong merging!\n",
    "df_final = df_energy \n",
    "\n",
    "# Step 2: make a for-loop, to merge all the 6 datasets simultaneously\n",
    "for df in dfs: # here, we loop through every city-group of our list of data frames (see step 1)\n",
    "    city = df['city_name'].unique() # we store the names of the 5 cities - as a list - in a variable\n",
    "    city_str = str(city).replace(\"'\", \"\").replace('[', '').replace(']', '').replace(' ', '') # we perform some string-manipulation to eliminate all the characters that are not necessary\n",
    "    df = df.add_suffix('_{}'.format(city_str)) # we re-name the columns, by adding the name of the city to each column\n",
    "    df_final = df_final.merge(df, # this is the merging-part!\n",
    "                              on=['time'], # we want to merge via the index // row-label of both datasets --> since they are both in UTC-time, this will work!\n",
    "                              how='outer') # 'outer' means: we want the 'union' --> see this youtube-video for a good explanation: https://www.youtube.com/watch?v=h4hOPGo4UVU\n",
    "    df_final = df_final.drop('city_name_{}'.format(city_str), axis=1) # let's drop some columns that we don't need anymore\n",
    "    \n",
    "# Step 3: \"final results\"-check\n",
    "df_final.columns # show the merging-results, by displaying all the column-names --> DONE! =)"
   ]
  },
  {
   "cell_type": "markdown",
   "metadata": {},
   "source": [
    "<u>**Step 3**</u>: Make some final-checks\n",
    "\n",
    "<ul>\n",
    "    <li><strong><u>Key-Question</u></strong>: <h1><em><center>Did the merging really worked? &#8594; Yes / No</center></em></h1></li><br>\n",
    "    <ul>\n",
    "        <li><strong><u>\"Trick\" to answer the question</u></strong>: Look at Missings &amp; Duplicates.</li>\n",
    "    </ul>\n",
    "</ul>"
   ]
  },
  {
   "cell_type": "code",
   "execution_count": null,
   "metadata": {},
   "outputs": [],
   "source": [
    "# Display the number of NaNs and duplicates in the final dataframe\n",
    "\n",
    "print('There are {} missing values or NaNs in df_final.'\n",
    "      .format(df_final.isnull().values.sum()))\n",
    "\n",
    "temp_final = df_final.duplicated(keep='first').sum()\n",
    "\n",
    "print('\\nThere are {} duplicate rows in df_energy based on all columns.'\n",
    "      .format(temp_final))"
   ]
  },
  {
   "cell_type": "markdown",
   "metadata": {},
   "source": [
    "<h3><em>If the answer is 'yes', then merging should have worked, if you have no missings and no duplicates. <br><br>\n",
    "    If the answer to the above question is 'no', then you need to go back to step 2 and try to figure out what you did wrong when merging the datasets together.</em></h3>"
   ]
  },
  {
   "cell_type": "markdown",
   "metadata": {},
   "source": [
    "# <a id=\"advanced-exploration\" style=\"color:black; text-decoration: none;\">Advanced Exploration of your data</a>\n",
    "---\n",
    "\n",
    "### <a id=\"create-correlation-matrix\" style=\"color:black; text-decoration: none;\"><u>How to create &amp; plot a `Pearson Correlation Matrix` out of a Dataframe?</u></a>:"
   ]
  },
  {
   "cell_type": "code",
   "execution_count": null,
   "metadata": {},
   "outputs": [],
   "source": [
    "# Step 1: construct a 'Pearson Correlation Matrix' as a Dataframe:\n",
    "correlations = df.corr(method='pearson')\n",
    "\n",
    "# Step 2: Load Libraries & plot Pearson correlation matrix:\n",
    "import matplotlib.pyplot as plt\n",
    "import seaborn as sns\n",
    "\n",
    "fig = plt.figure(figsize=(24, 24)) #\n",
    "sns.heatmap(correlations, annot=True, fmt='.2f') # import seaborn as sns\n",
    "plt.title('Pearson Correlation Matrix')\n",
    "plt.show()"
   ]
  },
  {
   "cell_type": "markdown",
   "metadata": {},
   "source": [
    "# <a id=\"time-series-exploration\" style=\"color:black; text-decoration: none;\">Time-Series: Exploration &amp; Visualizations</a>\n",
    "---"
   ]
  },
  {
   "cell_type": "markdown",
   "metadata": {},
   "source": [
    "### <a id=\"plot-time-series\" style=\"color:black; text-decoration: none;\"><u>Plotting a Time Series</u></a>:"
   ]
  },
  {
   "cell_type": "markdown",
   "metadata": {},
   "source": [
    "**<u>Step 1</u>**: Transform the `date`-column into a `date-time`-column."
   ]
  },
  {
   "cell_type": "code",
   "execution_count": null,
   "metadata": {},
   "outputs": [],
   "source": [
    "from datetime import datetime as dt # this is the package we need to convert a column into a 'date-time'\n",
    "\n",
    "# Step 1: Define a function that is reading the date-column correctly\n",
    "\n",
    "def parse_date(date):\n",
    "    data=str(date)\n",
    "    if date==\"\": # this condition will never be true, since the column 'Date-Time' NEVER has an empty string; ### raise exception\n",
    "        return None\n",
    "    else:\n",
    "        return pd.to_datetime(date, format='%Y-%m-%d %H:%M:%S', yearfirst = True, utc = True)\n",
    "\n",
    "# Step 2: apply the above function on the Column 'Date-Time' to transform the column into a 'date-time'-type\n",
    "raw_dd[\"Date-Time\"] = raw_dd[\"Date-Time\"].apply(parse_date)"
   ]
  },
  {
   "cell_type": "markdown",
   "metadata": {},
   "source": [
    "**<u>Step 2</u>**: Set the 'time'-column as the index (= row-label), otherwise the plotting won't work"
   ]
  },
  {
   "cell_type": "code",
   "execution_count": null,
   "metadata": {},
   "outputs": [],
   "source": [
    "# set the date-column as our row-label:\n",
    "raw_dd = raw_dd.set_index(\"Date-Time\")"
   ]
  },
  {
   "cell_type": "markdown",
   "metadata": {},
   "source": [
    "<u>**Step 3**</u>: Visualize the Time-Series"
   ]
  },
  {
   "cell_type": "code",
   "execution_count": null,
   "metadata": {},
   "outputs": [],
   "source": [
    "from sktime.utils.plotting import plot_series # use sktime and the 'plot_series'-module for this task\n",
    "\n",
    "# Define our y-variable (= DA-Prices in CH):\n",
    "y = raw_dd[\"pricesCH\"] \n",
    "\n",
    "plot_series(y) # visual check if it worked? --> yes!"
   ]
  },
  {
   "cell_type": "markdown",
   "metadata": {},
   "source": [
    "### <a id=\"auto-and-partial-auto-corr\" style=\"color:black; text-decoration: none;\"><u>Plot Auto-Correlation &amp; Partial-Auto-Correlation Functions</u></a>:\n",
    "\n",
    "The partial autocorrelation plot of the eletricity price time series shows that the direct relationship between an observation at a given hour (t) is strongest with the observations at t-1, t-2, t-24 and t-25 time-steps and diminishes afterwards. **Thus, we are going to use the 25 previous values of each time series which will constitute a feature for our models**."
   ]
  },
  {
   "cell_type": "code",
   "execution_count": null,
   "metadata": {},
   "outputs": [],
   "source": [
    "# Step 1: load library\n",
    "from statsmodels.graphics.tsaplots import plot_acf, plot_pacf # to plot \n",
    "\n",
    "# Step 2: Plot autocorrelation and partial autocorrelation plots\n",
    "fig, (ax1, ax2) = plt.subplots(nrows=2, figsize=(10, 6))\n",
    "plot_acf(df_energy['pricesCH'], lags=50, ax=ax1)\n",
    "plot_pacf(df_energy['pricesCH'], lags=50, ax=ax2)\n",
    "plt.tight_layout()\n",
    "plt.show()"
   ]
  },
  {
   "cell_type": "markdown",
   "metadata": {},
   "source": [
    "### <a id=\"cross-corr\" style=\"color:black; text-decoration: none;\"><u>Plot the Cross-Correlation(Y<sub>t</sub>, X<sub>t - k</sub>)</u></a>:\n",
    "\n",
    "It would quite definitely be **more beneficial if we only chose to use specific past values (observations at certain time-lags) of a given feature, based on the cross-correlation between the electricity price and each one of the features in the dataset**. For example, below we can see the cross-correlation between the electricity price and the Renewable Generation from Switzerland. We see that there are many time-lags with a correlation which is close to zero and could be ommited."
   ]
  },
  {
   "cell_type": "code",
   "execution_count": null,
   "metadata": {},
   "outputs": [],
   "source": [
    "from statsmodels.tsa.stattools import ccf # to plot the cross-correlation function\n",
    "\n",
    "# Step 2: plot the cross-correlation between the day-ahead price \"today\" and with each of the first 50-lags of the column 'RenGen' \n",
    "cross_corr = ccf(df_energy['RenGenCH'], df_energy['pricesCH'])\n",
    "plt.plot(cross_corr[0:50])\n",
    "plt.show()"
   ]
  },
  {
   "cell_type": "markdown",
   "metadata": {},
   "source": [
    "# <a id=\"feature-engineering-time-series\" style=\"color:black; text-decoration: none;\">Feature Engineering for Time-Series</a>\n",
    "---\n",
    "\n",
    "Wenn du mit Variablen arbeitest, welche mit \"Zeit\" zu tun haben, brauchst du einige \"Tricks\", um Data Cleaning betreiben zu können mit sogenannten `Date-Time Objects` in Python."
   ]
  },
  {
   "cell_type": "markdown",
   "metadata": {},
   "source": [
    "### <a id=\"time-stamps-as-index\" style=\"color:black; text-decoration: none;\"><u>Creating an index for Time-Series</u></a>:"
   ]
  },
  {
   "cell_type": "code",
   "execution_count": 18,
   "metadata": {},
   "outputs": [
    {
     "data": {
      "text/plain": [
       "DatetimeIndex(['2020-01-01 00:00:00+00:00', '2020-01-01 01:00:00+00:00',\n",
       "               '2020-01-01 02:00:00+00:00', '2020-01-01 03:00:00+00:00',\n",
       "               '2020-01-01 04:00:00+00:00', '2020-01-01 05:00:00+00:00',\n",
       "               '2020-01-01 06:00:00+00:00', '2020-01-01 07:00:00+00:00',\n",
       "               '2020-01-01 08:00:00+00:00', '2020-01-01 09:00:00+00:00',\n",
       "               ...\n",
       "               '2020-12-31 14:00:00+00:00', '2020-12-31 15:00:00+00:00',\n",
       "               '2020-12-31 16:00:00+00:00', '2020-12-31 17:00:00+00:00',\n",
       "               '2020-12-31 18:00:00+00:00', '2020-12-31 19:00:00+00:00',\n",
       "               '2020-12-31 20:00:00+00:00', '2020-12-31 21:00:00+00:00',\n",
       "               '2020-12-31 22:00:00+00:00', '2020-12-31 23:00:00+00:00'],\n",
       "              dtype='datetime64[ns, UTC]', length=8784, freq='H')"
      ]
     },
     "execution_count": 18,
     "metadata": {},
     "output_type": "execute_result"
    }
   ],
   "source": [
    "start = '2020-01-01'\n",
    "stop = '2021-01-01' # ACHTUNG: wird am 31.12.2020 enden\n",
    "ts_index = pd.date_range(start, stop, freq = 'h', closed = 'left', tz = 'UTC')\n",
    "ts_index"
   ]
  },
  {
   "cell_type": "markdown",
   "metadata": {},
   "source": [
    "#### <u>(Optionale) Erweiterung</u>: Index-Slicing\n",
    "\n",
    "Der **Nachteil** am obigen Index ist, dass er immer erst **ab 0:00 Uhr beginnt**. Das **Problem** dabei ist, dass *du nicht immer einen Index benötigen wirst, welcher punktgenau um 0:00 Uhr beginnt, sondern vielleicht einmal um 23:00 Uhr*. \n",
    "\n",
    "- <u>Lösung</u>: <strong>Verwende `Slicing`, um ab der ersten Beobachtung vom Jahr 2020, um 00:00 zu starten, beispielsweise so: `DF2 = DF1.loc[:'2019-05-26 13:00:00+00:00']` für einen DataFrame, beziehungsweise so: `ts_index[4:]` für eine Pandas-Series</strong>. "
   ]
  },
  {
   "cell_type": "markdown",
   "metadata": {},
   "source": [
    "### <a id=\"copy-index-as-columns\" style=\"color:black; text-decoration: none;\"><u>Make a copy of the index as a Column of a DataFrame</u></a>:"
   ]
  },
  {
   "cell_type": "code",
   "execution_count": null,
   "metadata": {},
   "outputs": [],
   "source": [
    "p_train = p_train.reset_index()\n",
    "p_train['date'] = p_train['Date-Time']\n",
    "p_train.set_index('Date-Time')"
   ]
  },
  {
   "cell_type": "markdown",
   "metadata": {},
   "source": [
    "### <a id=\"make-datetime-and-set-index\" style=\"color:black; text-decoration: none;\"><u>Converting a Time-Column into a Datetime-Column and set it as an Index (= row label)</u></a>:\n",
    "\n",
    "**If you work with time-series**, it will oftentimes be the case that you will need to convert your date-column - which **oftentimes are strings** - into an actual `date-type` column!"
   ]
  },
  {
   "cell_type": "code",
   "execution_count": null,
   "metadata": {},
   "outputs": [],
   "source": [
    "df_energy['Date-Time'] = pd.to_datetime(df_energy['Date-Time'], utc=True, infer_datetime_format=True)\n",
    "df_energy = df_energy.set_index('Date-Time') # set the 'Date-Time'-Column as the index // row-label of our data-frame"
   ]
  },
  {
   "cell_type": "markdown",
   "metadata": {},
   "source": [
    "##### <u>If you want to set the format by yourself</u>:"
   ]
  },
  {
   "cell_type": "code",
   "execution_count": null,
   "metadata": {},
   "outputs": [],
   "source": [
    "#convert Delivery day to a date time column\n",
    "epex_df['Delivery day'] = pd.to_datetime(epex_df['Delivery day'], format = '%Y%m%d')"
   ]
  },
  {
   "cell_type": "markdown",
   "metadata": {},
   "source": [
    "### <a id=\"create-range-of-dates\" style=\"color:black; text-decoration: none;\"><u>Creating a range of dates in Python</u></a>:\n",
    "\n",
    "Specify start and end, with the default daily frequency."
   ]
  },
  {
   "cell_type": "code",
   "execution_count": 1,
   "metadata": {},
   "outputs": [
    {
     "data": {
      "text/plain": [
       "DatetimeIndex(['2018-01-01', '2018-01-02', '2018-01-03', '2018-01-04',\n",
       "               '2018-01-05', '2018-01-06', '2018-01-07', '2018-01-08'],\n",
       "              dtype='datetime64[ns]', freq='D')"
      ]
     },
     "execution_count": 1,
     "metadata": {},
     "output_type": "execute_result"
    }
   ],
   "source": [
    "import pandas as pd\n",
    "\n",
    "pd.date_range(start='1/1/2018', end='1/08/2018')"
   ]
  },
  {
   "cell_type": "markdown",
   "metadata": {},
   "source": [
    "## <a id=\"rechnen-mit-date-time-objects\" style=\"color:black; text-decoration: none;\">Rechnen mit Date-Time Objects: Addition und Subtraktion von Zeiten</a>\n",
    "---\n",
    "\n",
    "Oftmals wirst du Zeitpunkte in der Zukunft oder Vergangenheit definieren müssen. Deshalb ist es essentiell, dass du lernst, wie man mit `Date-Time Objekten` rechnet:"
   ]
  },
  {
   "cell_type": "markdown",
   "metadata": {},
   "source": [
    "### <a id=\"today\" style=\"color:black; text-decoration: none;\"><u>Finde den genauen Zeitpunkt \"jetzt\" // \"heute\" heraus</u></a>:"
   ]
  },
  {
   "cell_type": "code",
   "execution_count": 23,
   "metadata": {},
   "outputs": [
    {
     "name": "stdout",
     "output_type": "stream",
     "text": [
      "2021-07-01 13:54:53.425398\n"
     ]
    }
   ],
   "source": [
    "import datetime # Da wir mit \"Zeit\" arbeiten, brauche ich das Package \"datetime\"\n",
    "\n",
    "jetzt = datetime.datetime.now() # current time\n",
    "\n",
    "print(jetzt) # check: should output the current time"
   ]
  },
  {
   "cell_type": "markdown",
   "metadata": {},
   "source": [
    "### <a id=\"zukunft-relativ-zu-jetzt\" style=\"color:black; text-decoration: none;\"><u>Zukunftszeitpunkt mit dem \"jetzt\" als Referenzpunkt // Startpunkt</u></a>:"
   ]
  },
  {
   "cell_type": "code",
   "execution_count": 26,
   "metadata": {},
   "outputs": [
    {
     "name": "stdout",
     "output_type": "stream",
     "text": [
      "2021-07-01 15:00:59.045610\n"
     ]
    }
   ],
   "source": [
    "import datetime # Da wir mit \"Zeit\" arbeiten, brauche ich das Package \"datetime\"\n",
    "\n",
    "jetzt = datetime.datetime.now() # current time\n",
    "added_time = datetime.timedelta(hours= 1, minutes= 1) # anzahl an Stunden & Minuten, die du dazu addieren willst\n",
    "ende = jetzt + added_time\n",
    "\n",
    "print(ende) # check: should output \"current time + 5h 2 min\""
   ]
  },
  {
   "cell_type": "markdown",
   "metadata": {},
   "source": [
    "### <a id=\"subtraktion-von-zeitpunkt\" style=\"color:black; text-decoration: none;\"><u>Rechnen mit Datum: Subtraktion mit `fixed time-point` als Referenzpunkt // Startpunkt</u></a>:"
   ]
  },
  {
   "cell_type": "code",
   "execution_count": 29,
   "metadata": {},
   "outputs": [
    {
     "name": "stdout",
     "output_type": "stream",
     "text": [
      "0711\n"
     ]
    }
   ],
   "source": [
    "import datetime # Da wir mit \"Zeit\" arbeiten, brauche ich das Package \"datetime\"\n",
    "\n",
    "fixe_zeit = datetime.datetime(2021, 7, 1, 8, 12) # datetime(year, month, day, hour, minute, second, microsecond), \n",
    "# wobei die ersten 3 Argumente (Jahr, Monat, Tag) OBLIGATORISCH sind! --> hier interessiert uns die letzten 2 Inputs, \n",
    "# nämlich die \"8\" und die \"12\" --> diese wiederspiegeln meine fixe 8h 12 min Arbeitszeit bei der SBB\n",
    "added_time = datetime.timedelta(hours= 1, minutes= 1) # anzahl an Stunden, die du noch arbeiten musst\n",
    "wie_lange_noch = fixe_arbeitszeit - added_time\n",
    "\n",
    "print(wie_lange_noch.strftime(\"%H%M\")) # check: should output 7h 11min --> yes!"
   ]
  },
  {
   "cell_type": "markdown",
   "metadata": {},
   "source": [
    "### <a id=\"wochentag-herausfinden\" style=\"color:black; text-decoration: none;\"><u>Day of the Week given a Date</u></a>:\n",
    "\n",
    "If you want to know - for example - which \"Wochentag\" z.B. the `21.03.2020` was, simply use this code:"
   ]
  },
  {
   "cell_type": "code",
   "execution_count": 11,
   "metadata": {},
   "outputs": [
    {
     "data": {
      "text/plain": [
       "5"
      ]
     },
     "execution_count": 11,
     "metadata": {},
     "output_type": "execute_result"
    }
   ],
   "source": [
    "import datetime\n",
    "\n",
    "fixe_zeit = datetime.datetime(2020, 12, 12) # datetime(year, month, day, hour, minute, second, microsecond)\n",
    "fixe_zeit.weekday() \n",
    "\n",
    "# --- Gemäss Documentation\n",
    "\n",
    "# 0 = Monday\n",
    "# 1 = Tuesday \n",
    "# 2 = Wednesday\n",
    "# 3 = Thursday\n",
    "# 4 = Friday\n",
    "# 5 = Saturday\n",
    "# 6 = Sunday"
   ]
  },
  {
   "cell_type": "code",
   "execution_count": 12,
   "metadata": {},
   "outputs": [
    {
     "data": {
      "text/plain": [
       "datetime.datetime(2021, 3, 22, 0, 0)"
      ]
     },
     "execution_count": 12,
     "metadata": {},
     "output_type": "execute_result"
    }
   ],
   "source": [
    "addierte_anzahl_tage = datetime.timedelta(days = 28)\n",
    "next_day = fixe_zeit + addierte_anzahl_tage\n",
    "next_next_day = next_day + addierte_anzahl_tage\n",
    "next_next_next_day = next_next_day + addierte_anzahl_tage\n",
    "next_next_next_next_day = next_next_next_day + addierte_anzahl_tage\n",
    "next_next_next_next_day"
   ]
  },
  {
   "cell_type": "markdown",
   "metadata": {},
   "source": [
    "We see that the `21.03.2020` was a **Saturday**. I checked it with the calendar: it's correct =)"
   ]
  },
  {
   "cell_type": "markdown",
   "metadata": {},
   "source": [
    "# Dummy-Variables\n",
    "---"
   ]
  },
  {
   "cell_type": "markdown",
   "metadata": {},
   "source": [
    "### <a id=\"create-normal-dummies\" style=\"color:black; text-decoration: none;\"><u>Create a \"normal\" Dummy</u></a>:\n",
    "\n",
    "In Python, you need the `where`-method to create a dummy on a single condition. \n",
    "\n",
    "This is equivalent to the `ifelse()`-Function in `R`:"
   ]
  },
  {
   "cell_type": "code",
   "execution_count": null,
   "metadata": {},
   "outputs": [],
   "source": [
    "import numpy as np\n",
    "\n",
    "np.where(maupayment['log_month'] == maupayment['install_month'], 'install', 'existing')"
   ]
  },
  {
   "cell_type": "markdown",
   "metadata": {},
   "source": [
    "### <a id=\"flagg-dummy-by-merging\" style=\"color:black; text-decoration: none;\"><u>Create a Dummy by `merging` &amp; `flagging`</u></a>:"
   ]
  },
  {
   "cell_type": "markdown",
   "metadata": {},
   "source": [
    "This can be useful, when you need to track which of the variable was part of the \"left\" and which one was part of the \"right\" dataset. You literally create a dummy-variable when you do this and it is called the `_merge`-column.\n",
    "\n",
    "- <u>Andwendungsfall 1</u>: als ich bei der SBB versucht habe, einen \"Ferien-Dummy\" zu kreieren."
   ]
  },
  {
   "cell_type": "code",
   "execution_count": null,
   "metadata": {},
   "outputs": [],
   "source": [
    "df2 = df.merge(df_year_2019, \n",
    "                 on='date', # in this case, we merge over the \"date\"-column; note that 'df' has 365 rows, while 'df_year_2019' only 270 rows\n",
    "                 how='outer', # we need to set\n",
    "                 indicator=True) # the flag is \"indicator\"\n",
    "df2 # we get a ddset with 360 rows. On the outside, the 'testo'-ddset seems NOT to be different form the 'df', however, the purpose of the merge was to create a new dummy-variable to see from which dataset it came from"
   ]
  },
  {
   "cell_type": "code",
   "execution_count": null,
   "metadata": {},
   "outputs": [],
   "source": [
    "# step 2: we want some more meaningful values within the 'merge'-column --> apply an if-statement onto the (string-) column\n",
    "\n",
    "df2.loc[df2['_merge'] == 'both', 'ferien'] = 1 # Here, we create a column 'Ferien', which will be equal to \"1\", if the value in the '_merge'-column is equal to the string \"both\"\n",
    "df2.loc[df2['_merge'] != 'both', 'ferien'] = 'False' # Ferien-Dummy equals zero otherwise"
   ]
  },
  {
   "cell_type": "markdown",
   "metadata": {},
   "source": [
    "## <a id=\"dummy-variables-for-time-variables\" style=\"color:black; text-decoration: none;\">Dummy-Variables: Create Columns for specific hours, seasons of the year etc...</a>\n",
    "---\n",
    "\n",
    "In the following, I will use a column called `Date-Time` to create *new* columns to extract some 'time-information' (hours, quarters etc...) needed.\n",
    "\n",
    "### <a id=\"dummy-for-hours\" style=\"color:black; text-decoration: none;\"><u>Extract `hours` and put it into a separate column</u></a>:"
   ]
  },
  {
   "cell_type": "code",
   "execution_count": null,
   "metadata": {},
   "outputs": [],
   "source": [
    "raw_dd['Hour'] = raw_dd['Date-Time'].apply(lambda x: x.hour) # Werte von 0 [= Stunde 0:00-1:00] bis 23 [= Stunde 23:00-24:00]"
   ]
  },
  {
   "cell_type": "markdown",
   "metadata": {},
   "source": [
    "### <a id=\"dummy-for-quarters\" style=\"color:black; text-decoration: none;\"><u>Extract `Seasons` (= \"qarters\") and put it into a separate column</u></a>:"
   ]
  },
  {
   "cell_type": "code",
   "execution_count": null,
   "metadata": {},
   "outputs": [],
   "source": [
    "raw_dd['Quarter'] = raw_dd['Date-Time'].apply(lambda x: x.quarter) # Werte von 1 [Januar bis März] bis 4 [Oktober bis Dezember]"
   ]
  },
  {
   "cell_type": "markdown",
   "metadata": {},
   "source": [
    "### <a id=\"dummy-for-days\" style=\"color:black; text-decoration: none;\"><u>Extract `Days` and put it into a separate column</u></a>:"
   ]
  },
  {
   "cell_type": "code",
   "execution_count": null,
   "metadata": {},
   "outputs": [],
   "source": [
    "raw_dd['day_of_week'] = raw_dd['Date-Time'].apply(lambda x: x.weekday()) # Werte von 0 [= Montag] bis 6 [= Sonntag]"
   ]
  },
  {
   "cell_type": "markdown",
   "metadata": {},
   "source": [
    "## <a id=\"scaling-variables\" style=\"color:black; text-decoration: none;\">Scaling Variables</a>\n",
    "---\n",
    "\n",
    "When applying machine learning, one condition to use those fancy models will be to scale our variables first. \n",
    "\n",
    "The main **methods for scaling can be seen in [this Stack-Exchange Post](https://stats.stackexchange.com/questions/70553/what-does-normalization-mean-and-how-to-verify-that-a-sample-or-a-distribution)**."
   ]
  },
  {
   "cell_type": "markdown",
   "metadata": {},
   "source": [
    "### <a id=\"normalization-scaling\" style=\"color:black; text-decoration: none;\"><u>Normalization</u></a>:\n",
    "\n",
    "If you normalize variables, then it means that the RANGE of possible values (= Definitionsbereich), is set between 0 and 1. \n",
    "\n",
    "#### <u>Scale _all_ X-Variables and your Y-variable</u>:"
   ]
  },
  {
   "cell_type": "code",
   "execution_count": null,
   "metadata": {},
   "outputs": [],
   "source": [
    "from sklearn.preprocessing import MinMaxScaler # Der Name der Klasse für Normalisierung = 'MinMaxScaler' (--> mega weird xDD)\n",
    "\n",
    "# step 1: initialize the Class\n",
    "scaler_X = MinMaxScaler(feature_range=(0, 1))\n",
    "scaler_y = MinMaxScaler(feature_range=(0, 1))"
   ]
  },
  {
   "cell_type": "code",
   "execution_count": null,
   "metadata": {},
   "outputs": [],
   "source": [
    "# step 2: wende den Scaler uf die X- & Y-Variablen (dabei nur auf das Training-Set) an (Achtung: funktioniert nur auf numy-arrays, \n",
    "# aber nicht auf Series // Data-Frame Columns!)\n",
    "scaler_X.fit(X_compl_df[:train_end_idx]) # alternativ: scaler_y.fit(X_train.to_numpy().reshape(-1, 1))\n",
    "scaler_y.fit(y_compl_df[:train_end_idx]) # alternativ: scaler_y.fit(y_train.to_numpy().reshape(-1, 1))"
   ]
  },
  {
   "cell_type": "code",
   "execution_count": null,
   "metadata": {},
   "outputs": [],
   "source": [
    "# step 3: nach dem \"fit\" haben wir die Werte noch nicht als \"DataFrame\"-Typ gespeichert, weshalb wir nun noch 'transform' anwenden\n",
    "X_norm = scaler_X.transform(X_compl_df)\n",
    "y_norm = scaler_y.transform(y_compl_df)"
   ]
  },
  {
   "cell_type": "markdown",
   "metadata": {},
   "source": [
    "# <a id=\"umwandlungen\" style=\"color:black; text-decoration: none;\">Umwandlungen</a>\n",
    "---\n"
   ]
  },
  {
   "cell_type": "markdown",
   "metadata": {},
   "source": [
    "### <a id=\"series-to-array\" style=\"color:black; text-decoration: none;\"><u>Convert a Series into an array</u></a>:"
   ]
  },
  {
   "cell_type": "code",
   "execution_count": null,
   "metadata": {},
   "outputs": [],
   "source": [
    "Series.to_numpy() # this also works on a column of a dataframe =)"
   ]
  },
  {
   "cell_type": "code",
   "execution_count": null,
   "metadata": {},
   "outputs": [],
   "source": []
  },
  {
   "cell_type": "markdown",
   "metadata": {},
   "source": [
    "# Apply If-Conditions on a DataFrame\n",
    "---"
   ]
  },
  {
   "cell_type": "markdown",
   "metadata": {},
   "source": [
    "- Here is a really good reference: https://datatofish.com/if-condition-in-pandas-dataframe/"
   ]
  },
  {
   "cell_type": "markdown",
   "metadata": {},
   "source": [
    "# <a id=\"data-viz\" style=\"color:black; text-decoration: none;\">Visualization of the Data</a>\n",
    "---"
   ]
  },
  {
   "cell_type": "markdown",
   "metadata": {},
   "source": [
    "### <a id=\"plot-and-save-image\" style=\"color:black; text-decoration: none;\"><u>Plot &amp; Save an Image</u></a>:"
   ]
  },
  {
   "cell_type": "code",
   "execution_count": null,
   "metadata": {},
   "outputs": [],
   "source": [
    "# Step 1: import the library matplotlib for visualization\n",
    "import matplotlib.pyplot as plt # for the settings of the graph, such as title, windows-size etc...\n",
    "\n",
    "# Step 2: make the plot\n",
    "plt.figure(figsize=(14,6))\n",
    "fig, ax = plot_series(y_train[10290:10320], # only take the last 30 observations from the trainings-set\n",
    "            y_test, \n",
    "            y_pred, \n",
    "            labels=[\"y_train\", \"y_test\", \"y_pred\"])\n",
    "plt.xticks(rotation=90) # rotates Beschriftung der X-Achse um 90-Grad, damit man überhaupt die X-Achse lesen kann\n",
    "\n",
    "# Step 3: save the plot\n",
    "fig.savefig(\"monochrome-2-test.png\") # save the graph"
   ]
  },
  {
   "cell_type": "markdown",
   "metadata": {},
   "source": [
    "### <a id=\"multi-plots-for-loop\" style=\"color:black; text-decoration: none;\"><u>For-Loops to iterate over lots of variables and save them</u></a>:"
   ]
  },
  {
   "cell_type": "code",
   "execution_count": null,
   "metadata": {},
   "outputs": [],
   "source": [
    "# step 1: create a list of all the columns, you want to iterate through\n",
    "\n",
    "cov_list = X_train.columns # I select all columns in my dataframe 'X_train'"
   ]
  },
  {
   "cell_type": "code",
   "execution_count": null,
   "metadata": {},
   "outputs": [],
   "source": [
    "# step 2:\n",
    "\n",
    "for i in cov_list:\n",
    "    print(i) # just as a check, to see how the loop progresses\n",
    "    covariate_name = i # everytime I iterate over a new variable, I store it into this variable --> I will use this variable later to save each \n",
    "    covariate = X_train[i] # I need each variable to be of type \"Series\" when creating a plot\n",
    "    x = list(range(0, 720, 24)) # this will put a tick-mark after each day\n",
    "    x.append(719) # I also add '719', since the range()-function does not include this number\n",
    "    fig, ax = plot_series(covariate[-720:]) # this plots the last month\n",
    "    plt.xticks(x); # to only display some dates\n",
    "    plt.xticks(rotation=90); # we need to rotate the x-axis, otherwise you cannot read it\n",
    "    fig.savefig(\"visualisation_30_days-{}.png\".format(covariate_name)) # save the graph for each column. The \"trick\" here is, that we can use \n",
    "    # f-strings to create a unique name for each file =)"
   ]
  },
  {
   "cell_type": "markdown",
   "metadata": {},
   "source": [
    "# <a id=\"magic-commands\" style=\"color:black; text-decoration: none;\">Python Magic Commands</a>\n",
    "---"
   ]
  },
  {
   "cell_type": "markdown",
   "metadata": {},
   "source": [
    "## <u><a id=\"view-all-columns\" style=\"color:black; text-decoration: none;\">Show ALL Columns of a DataFrames</a></u>\n",
    "\n",
    "Wenn grosse Datensätze geprinted werden, ist beim Output oftmals ein Teil der Spalten maskiert, da schlichtweg der Platz fehlt, um alle Spalten anzuzeigen. Allerdings gibt es einen Weg, die Einstellungen via `Pandas` zu ändern:"
   ]
  },
  {
   "cell_type": "code",
   "execution_count": null,
   "metadata": {},
   "outputs": [],
   "source": [
    "import pandas as pd\n",
    "\n",
    "pd.set_option('display.max_rows', 500)\n",
    "\n",
    "pd.set_option(\"display.max.columns\", None) # this will tell Python: \"show me ALL the columns!\"\n",
    "pd.set_option('display.max_columns', 500)\n",
    "\n",
    "pd.set_option('display.width', 1000)"
   ]
  },
  {
   "cell_type": "markdown",
   "metadata": {},
   "source": [
    "## <a id=\"html-with-jupyter-notebooks\" style=\"color:black; text-decoration: none;\"><u>Working with HTML within Jupyter-Notebooks</u></a>\n",
    "\n",
    "\n",
    "### <u>How to use anchor-tags to make references within your Jupyter-Notebook</u>?\n",
    "\n",
    "[Klick here to move to the very top of this Jupyter-Notebook](#top). This is achieved by using the `<a>`-HTML-Tag, and some unique ID-name &amp; `CSS`-styling on the `<a>`-Tag.\n",
    "\n",
    "```html\n",
    "<a id=\"gebe-hier-passenden-id-namen\" style=\"color:black; text-decoration: none;\">Hier kommt der Text, auf welchem du zeigen willst...</a>\n",
    "```\n",
    "\n",
    "```markdown\n",
    "[Und das ist der Text, welcher dich weiterleitet](#top)\n",
    "```"
   ]
  },
  {
   "cell_type": "markdown",
   "metadata": {},
   "source": [
    "## <a id=\"share-variables-between-notebooks\" style=\"color:black; text-decoration: none;\"><u>Share Variables between Notebooks</u></a>\n",
    "\n",
    "This `Magic Commands` allows you to share any variable between different Jupyter Notebooks. You need to pass the original variable with the magic command. To retrieve the variable, you need to pass the same command with the `-r` parameter."
   ]
  },
  {
   "cell_type": "code",
   "execution_count": 1,
   "metadata": {},
   "outputs": [
    {
     "name": "stdout",
     "output_type": "stream",
     "text": [
      "Stored 'myData' (str)\n"
     ]
    }
   ],
   "source": [
    "myData = \"The World Makes Sense\"\n",
    "%store myData"
   ]
  },
  {
   "cell_type": "markdown",
   "metadata": {},
   "source": [
    "Now that you 'saved' the variable `myData` with the `Magic Commands`, **go and open another of your Jupyter Notebooks** and type in the following:\n",
    "\n",
    "```python\n",
    "%store -r myData # step one: run this line in the first cell\n",
    "myData # step 2: run this line in the secons cell\n",
    "```"
   ]
  },
  {
   "cell_type": "markdown",
   "metadata": {},
   "source": [
    "# <a id=\"useful-tricks\" style=\"color:black; text-decoration: none;\">Useful \"Tricks\" I stumbled upon</a>\n",
    "---"
   ]
  },
  {
   "cell_type": "markdown",
   "metadata": {},
   "source": [
    "### <a id=\"reshape-1-1\" style=\"color:black; text-decoration: none;\"><u>Reshape(-1, 1)</u></a>:\n",
    "\n",
    "> What does `reshape(-1,1)` do?\n",
    "\n",
    "If you have an array or list, like this: `[1,2,3,4,5]`...\n",
    "\n",
    "Using `reshape(-1,1)` on it, will create a new **list of lists, with only 1 element in each sub-list**, e.g. the output will be `[[1], [2], [3], [4], [5]]`. \n",
    "\n",
    "*See also [this Stack-Overflow answer](https://stackoverflow.com/questions/18691084/what-does-1-mean-in-numpy-reshape)*."
   ]
  },
  {
   "cell_type": "markdown",
   "metadata": {},
   "source": [
    "# <a id=\"math-tricks\" style=\"color:black; text-decoration: none;\">Math Tricks for Hacks</a>\n",
    "---\n",
    "\n",
    "### <a id=\"round-downwards\" style=\"color:black; text-decoration: none;\"><u>How to _always_ round downwards</u></a>?:\n",
    "\n",
    "Mit der Funktion `round`, kann man auf- oder abwärts runden, wie wir es gewohnt sind:"
   ]
  },
  {
   "cell_type": "code",
   "execution_count": 18,
   "metadata": {},
   "outputs": [
    {
     "data": {
      "text/plain": [
       "1.96"
      ]
     },
     "execution_count": 18,
     "metadata": {},
     "output_type": "execute_result"
    }
   ],
   "source": [
    "round(47/24, ndigits = 2) # runde auf 2 Nachkommastellen"
   ]
  },
  {
   "cell_type": "markdown",
   "metadata": {},
   "source": [
    "**Mit der `floor`-Funktion, kann allerdings stets abwärts gerundet werden, wie das Beispiel zeigt**:"
   ]
  },
  {
   "cell_type": "code",
   "execution_count": 20,
   "metadata": {},
   "outputs": [
    {
     "data": {
      "text/plain": [
       "1"
      ]
     },
     "execution_count": 20,
     "metadata": {},
     "output_type": "execute_result"
    }
   ],
   "source": [
    "import math # um 'floo'\n",
    "\n",
    "math.floor(47/24)"
   ]
  },
  {
   "cell_type": "markdown",
   "metadata": {},
   "source": [
    "### <a id=\"calc-median\" style=\"color:black; text-decoration: none;\"><u>Calculate the Median?</u></a>\n",
    "\n",
    "Since there is no built-in function for the median, you can write a function which will be able to calculate the median:"
   ]
  },
  {
   "cell_type": "code",
   "execution_count": null,
   "metadata": {},
   "outputs": [],
   "source": [
    "# Step 1: make a function for the case \"median calculation for an ODD (= ungerade) list of numbers\"\n",
    "\n",
    "def _median_odd(xs) -> float:\n",
    "    return sorted(xs)[len(xs) // 2]"
   ]
  },
  {
   "cell_type": "code",
   "execution_count": null,
   "metadata": {},
   "outputs": [],
   "source": [
    "# Step 2: make a function for the case \"median calculation for an EVEN (= gerade) list of numbers\"\n",
    "\n",
    "def _median_even(xs) -> float:\n",
    "    sorted_xs = sorted(xs)\n",
    "    hi_midpoint = len(xs) // 2\n",
    "    return (sorted_xs[hi_midpoint - 1] + sorted_xs[hi_midpoint]) / 2"
   ]
  },
  {
   "cell_type": "code",
   "execution_count": null,
   "metadata": {},
   "outputs": [],
   "source": [
    "# Step 3: Use the 2 above functions to finally be able to build the median-function\n",
    "\n",
    "def median(v) -> float:\n",
    "    return _median_even(v) if len(v) % 2 == 0 else _median_odd(v)"
   ]
  },
  {
   "cell_type": "code",
   "execution_count": null,
   "metadata": {},
   "outputs": [],
   "source": [
    "assert median([1, 10, 2, 9, 5]) == 5 # check if the above function was written correctly (you can change the number '5' and see\n",
    "# what happens, if this expression becomes incorrect)"
   ]
  },
  {
   "cell_type": "markdown",
   "metadata": {},
   "source": [
    "# Fun\n",
    "---\n",
    "\n",
    "In this section, I will just put some important concepts &amp; some of my \"inventions\" that I found useful."
   ]
  },
  {
   "cell_type": "code",
   "execution_count": 15,
   "metadata": {},
   "outputs": [],
   "source": [
    "import random \n",
    "import numpy as np\n",
    "\n",
    "df = pd.DataFrame(np.random.randn(10, 2),\n",
    "                  columns=['Col1', 'Col2'])\n",
    "df['X'] = pd.Series(['A', 'A', 'A', 'A', 'A',\n",
    "                     'B', 'B', 'B', 'B', 'B'])"
   ]
  },
  {
   "cell_type": "code",
   "execution_count": 16,
   "metadata": {},
   "outputs": [
    {
     "data": {
      "text/html": [
       "<div>\n",
       "<style scoped>\n",
       "    .dataframe tbody tr th:only-of-type {\n",
       "        vertical-align: middle;\n",
       "    }\n",
       "\n",
       "    .dataframe tbody tr th {\n",
       "        vertical-align: top;\n",
       "    }\n",
       "\n",
       "    .dataframe thead th {\n",
       "        text-align: right;\n",
       "    }\n",
       "</style>\n",
       "<table border=\"1\" class=\"dataframe\">\n",
       "  <thead>\n",
       "    <tr style=\"text-align: right;\">\n",
       "      <th></th>\n",
       "      <th>Col1</th>\n",
       "      <th>Col2</th>\n",
       "      <th>X</th>\n",
       "    </tr>\n",
       "  </thead>\n",
       "  <tbody>\n",
       "    <tr>\n",
       "      <th>0</th>\n",
       "      <td>1.616909</td>\n",
       "      <td>-0.998962</td>\n",
       "      <td>A</td>\n",
       "    </tr>\n",
       "    <tr>\n",
       "      <th>1</th>\n",
       "      <td>0.036902</td>\n",
       "      <td>-0.991193</td>\n",
       "      <td>A</td>\n",
       "    </tr>\n",
       "    <tr>\n",
       "      <th>2</th>\n",
       "      <td>-1.418524</td>\n",
       "      <td>-0.070984</td>\n",
       "      <td>A</td>\n",
       "    </tr>\n",
       "    <tr>\n",
       "      <th>3</th>\n",
       "      <td>1.207328</td>\n",
       "      <td>1.896855</td>\n",
       "      <td>A</td>\n",
       "    </tr>\n",
       "    <tr>\n",
       "      <th>4</th>\n",
       "      <td>1.376757</td>\n",
       "      <td>-0.333235</td>\n",
       "      <td>A</td>\n",
       "    </tr>\n",
       "    <tr>\n",
       "      <th>5</th>\n",
       "      <td>0.295216</td>\n",
       "      <td>1.488426</td>\n",
       "      <td>B</td>\n",
       "    </tr>\n",
       "    <tr>\n",
       "      <th>6</th>\n",
       "      <td>1.226809</td>\n",
       "      <td>-1.351006</td>\n",
       "      <td>B</td>\n",
       "    </tr>\n",
       "    <tr>\n",
       "      <th>7</th>\n",
       "      <td>0.476242</td>\n",
       "      <td>-0.431204</td>\n",
       "      <td>B</td>\n",
       "    </tr>\n",
       "    <tr>\n",
       "      <th>8</th>\n",
       "      <td>-1.565872</td>\n",
       "      <td>1.174200</td>\n",
       "      <td>B</td>\n",
       "    </tr>\n",
       "    <tr>\n",
       "      <th>9</th>\n",
       "      <td>-0.469251</td>\n",
       "      <td>-0.353409</td>\n",
       "      <td>B</td>\n",
       "    </tr>\n",
       "  </tbody>\n",
       "</table>\n",
       "</div>"
      ],
      "text/plain": [
       "       Col1      Col2  X\n",
       "0  1.616909 -0.998962  A\n",
       "1  0.036902 -0.991193  A\n",
       "2 -1.418524 -0.070984  A\n",
       "3  1.207328  1.896855  A\n",
       "4  1.376757 -0.333235  A\n",
       "5  0.295216  1.488426  B\n",
       "6  1.226809 -1.351006  B\n",
       "7  0.476242 -0.431204  B\n",
       "8 -1.565872  1.174200  B\n",
       "9 -0.469251 -0.353409  B"
      ]
     },
     "execution_count": 16,
     "metadata": {},
     "output_type": "execute_result"
    }
   ],
   "source": [
    "df"
   ]
  },
  {
   "cell_type": "code",
   "execution_count": 11,
   "metadata": {},
   "outputs": [
    {
     "data": {
      "image/png": "[encoded data removed]",
      "text/plain": [
       "<Figure size 432x288 with 1 Axes>"
      ]
     },
     "metadata": {
      "needs_background": "light"
     },
     "output_type": "display_data"
    },
    {
     "data": {
      "image/png": "[encoded data removed]",
      "text/plain": [
       "<Figure size 432x288 with 1 Axes>"
      ]
     },
     "metadata": {
      "needs_background": "light"
     },
     "output_type": "display_data"
    },
    {
     "data": {
      "image/png": "[encoded data removed]",
      "text/plain": [
       "<Figure size 432x288 with 1 Axes>"
      ]
     },
     "metadata": {
      "needs_background": "light"
     },
     "output_type": "display_data"
    }
   ],
   "source": [
    "for i,el in enumerate(list(df.columns.values)[:-1]):\n",
    "    a = df.boxplot(el, by ='type')"
   ]
  },
  {
   "cell_type": "markdown",
   "metadata": {},
   "source": [
    "### <u>Arbeitszeit (left to work...) Berechnung</u>:"
   ]
  },
  {
   "cell_type": "markdown",
   "metadata": {},
   "source": [
    "Um zu sehen, **wie viele Stunden &amp; Minuten ich heute noch arbeiten muss**, habe ich - als Übung - eine Funktion `hours_to_go` selbst erfasst, welche mir die Anzahl an noch zu verbleibenden Arbeitsstunden am Tag berechnet:"
   ]
  },
  {
   "cell_type": "code",
   "execution_count": 11,
   "metadata": {},
   "outputs": [
    {
     "data": {
      "text/plain": [
       "2880"
      ]
     },
     "execution_count": 11,
     "metadata": {},
     "output_type": "execute_result"
    }
   ],
   "source": [
    "4*30*24"
   ]
  },
  {
   "cell_type": "code",
   "execution_count": 1,
   "metadata": {},
   "outputs": [
    {
     "name": "stdout",
     "output_type": "stream",
     "text": [
      "0807\n"
     ]
    }
   ],
   "source": [
    "import datetime # Da wir mit \"Zeit\" arbeiten, brauche ich das Package \"datetime\"\n",
    "\n",
    "\n",
    "def hours_to_go(Stunden, Minuten): # Input: wie viele Stunden & Minuten hast du heute bereits gearbeitet?\n",
    "    \"\"\"gibt an, wie lange ich noch heute \"Schaffen\" muss --> gebe dafür bloss die Anzahl stunden & minuten ein, die du \"heute\" \n",
    "    bereits gearbeitet hast\n",
    "    > hours_to_go(3,5) --> 0507 \n",
    "    interpretation: ich habe fix 8h 12min zu arbeiten. Davon ziehe ich nun 3h 5 min ab --> 0507 heisst, ich habe noch 5h 7min \n",
    "    zu arbeiten, was stimmt!\"\"\"\n",
    "    \n",
    "    fixe_arbeitszeit = datetime.datetime(2021, 7, 1, 8, 12) # datetime(year, month, day, hour, minute, second, microsecond), \n",
    "    # wobei die ersten 3 Argumente (Jahr, Monat, Tag) OBLIGATORISCH sind! --> hier interessiert uns die letzten 2 Inputs, \n",
    "    # nämlich die \"8\" und die \"12\" --> diese wiederspiegeln meine fixe 8h 12 min Arbeitszeit bei der SBB\n",
    "    gearbeitet = datetime.timedelta(hours= Stunden, minutes= Minuten) # anzahl an Stunden, die du noch arbeiten musst\n",
    "    wie_lange_noch = fixe_arbeitszeit - gearbeitet\n",
    "    print(wie_lange_noch.strftime(\"%H%M\"))\n",
    "    \n",
    "hours_to_go(0,5) # call the function to output, how many hours are left to work"
   ]
  },
  {
   "cell_type": "markdown",
   "metadata": {},
   "source": [
    "Um zu sehen, **um welche Uhrzeit ich heute Feierabend machen darf**, habe ich - als Übung - eine Funktion `arbeit_ende` selbst erfasst:"
   ]
  },
  {
   "cell_type": "code",
   "execution_count": 2,
   "metadata": {},
   "outputs": [
    {
     "name": "stdout",
     "output_type": "stream",
     "text": [
      "2021-07-29 15:53:13.919695\n"
     ]
    }
   ],
   "source": [
    "import datetime # Da wir mit \"Zeit\" arbeiten, brauche ich das Package \"datetime\"\n",
    "\n",
    "def arbeit_ende(Stunden, Minuten): \n",
    "    \"\"\"gibt an, wann ich heute mit \"Schaffen\" fertig bin --> gebe dafür bloss die Anzahl stunden & minuten ein, die du \"heute\" \n",
    "    noch arbeiten musst, zum Beispiel arbeite ich heute noch '4h 44 min':\n",
    "    > arbeit_ende(4, 44) --> 2021-07-01 17:53:02.907698 \"\"\"\n",
    "    \n",
    "    jetzt = datetime.datetime.now() # current time\n",
    "    added_time = datetime.timedelta(hours= Stunden, minutes= Minuten) # anzahl an Stunden, die du noch arbeiten musst\n",
    "    ende = jetzt + added_time\n",
    "    print(ende)\n",
    "    \n",
    "    \n",
    "arbeit_ende(8,7) # call the function to output, until when I need to work today "
   ]
  }
 ],
 "metadata": {
  "kernelspec": {
   "display_name": "Python 3",
   "language": "python",
   "name": "python3"
  },
  "language_info": {
   "codemirror_mode": {
    "name": "ipython",
    "version": 3
   },
   "file_extension": ".py",
   "mimetype": "text/x-python",
   "name": "python",
   "nbconvert_exporter": "python",
   "pygments_lexer": "ipython3",
   "version": "3.7.11"
  }
 },
 "nbformat": 4,
 "nbformat_minor": 4
}
